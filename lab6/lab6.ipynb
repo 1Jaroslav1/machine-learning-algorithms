{
 "cells": [
  {
   "cell_type": "markdown",
   "source": [
    "# WSI - ćwiczenie 6\n",
    "## Yaroslav Harbar\n",
    "### Uczenie (się) ze wzmocnieniem\n",
    "\n",
    "Celem ćwiczenia jest implementacja algorytmu Q-learning. W tym zadaniu zostało wykorzystane środowisko *Taxi-v3*, które składa się z 2D świata, w którym agentem jest taksówkarz, który musi odebrać klienta i wysadzić go w miejscu docelowym."
   ],
   "metadata": {
    "collapsed": false
   }
  },
  {
   "cell_type": "code",
   "execution_count": 334,
   "outputs": [],
   "source": [
    "import numpy as np\n",
    "import gym\n",
    "import matplotlib.pyplot as plt\n",
    "import time\n",
    "import pandas as pd"
   ],
   "metadata": {
    "collapsed": false
   }
  },
  {
   "cell_type": "markdown",
   "source": [
    "## Środowisko *Taxi-v3*"
   ],
   "metadata": {
    "collapsed": false
   }
  },
  {
   "cell_type": "markdown",
   "source": [
    "Kluczowymi elementami algorytmu Q-learning jest *stany* oraz *akcje*.\n",
    "W środowisku *Taxi-v3* agent może wchodzić w interakcję z otoczeniem za pomocą następujących dyskretnych akcji: jechać do góry, jechać do dołu, jechać w prawo, jechać w lewo, zabrać pasażera i wysadzić pasażera.\n",
    "\n",
    "| Akcja | Numer akcji |\n",
    "|-------|-------------|\n",
    "| jechać do góry   | 0           |\n",
    "| jechać do dołu   | 1           |\n",
    "| jechać w prawo  | 2           |\n",
    "| jechać w lewo   | 3           |\n",
    "| zabrać pasażera   | 4           |\n",
    "| wysadzić pasażera   | 5           |\n",
    "\n",
    "Natomiast stan w środowisku *Taxi-v3* jest reprezentowany jako krotka zawierająca pozycję agenta (taksówkarza), lokalizacja pasażera, który ma być odebrany oraz miejsce docelowe. State = (agent_position_x, agent_position_y, passenger_localization, destination_localization)\n",
    "\n",
    "| Lokalizacja pasażera \\ Miejsce docelowe | Numer |\n",
    "|-----------------------------------------|------------|\n",
    "| czerwone                                | 0          |\n",
    "| zielone                                 | 1          |\n",
    "| żółte                                   | 2          |\n",
    "| niebieskie                              | 3          |\n",
    "| w taksówce (tylko dla pasażera)         | 4          |\n"
   ],
   "metadata": {
    "collapsed": false
   }
  },
  {
   "cell_type": "code",
   "execution_count": 335,
   "outputs": [
    {
     "name": "stdout",
     "output_type": "stream",
     "text": [
      "+---------+\n",
      "|\u001B[34;1mR\u001B[0m: | : :G|\n",
      "| : | : : |\n",
      "| : : : : |\n",
      "| | : | : |\n",
      "|\u001B[43mY\u001B[0m| : |\u001B[35mB\u001B[0m: |\n",
      "+---------+\n",
      "\n"
     ]
    }
   ],
   "source": [
    "env = gym.make('Taxi-v3')\n",
    "env.render()"
   ],
   "metadata": {
    "collapsed": false
   }
  },
  {
   "cell_type": "markdown",
   "source": [
    "Na rysunku jest przedstawione środowisko Taxi-v3, gdzie zielony prostokąt jest agentem, litery R, G, Y, B - reprezentują lokalizacje. Jeżeli jedna z tych liter jest pokolorowany na niebiesko, to oznacza, że w tym miejscu jest pasażer, natomiast jeżeli jest pokolorowany na różowo, to oznacza, że to jest miejsce docelowe."
   ],
   "metadata": {
    "collapsed": false
   }
  },
  {
   "cell_type": "markdown",
   "source": [
    "## Algorytm Q-Learning"
   ],
   "metadata": {
    "collapsed": false
   }
  },
  {
   "cell_type": "code",
   "execution_count": 336,
   "outputs": [],
   "source": [
    "class QLearning:\n",
    "    def __init__(self, env_name):\n",
    "        self.env_name= env_name\n",
    "        self.env = gym.make(env_name).env\n",
    "        self.q_table = np.zeros([self.env.observation_space.n, self.env.action_space.n])\n",
    "        self.rewards_history = []\n",
    "\n",
    "    def get_parameters(self):\n",
    "        return [\n",
    "            self.env_name,\n",
    "            self.env,\n",
    "            self.q_table,\n",
    "            self.rewards_history\n",
    "        ]\n",
    "\n",
    "    def exploration(self, epsilon, state):\n",
    "        if np.random.rand() > epsilon:\n",
    "            return np.argmax(self.q_table[state])\n",
    "        return self.env.action_space.sample()\n",
    "\n",
    "    def train(self, train_episodes, epsilon, beta, gamma, evaluate_step, evaluate_episodes, print_evaluate_info=False):\n",
    "        for i in range(train_episodes):\n",
    "            state = self.env.reset()\n",
    "            episode_reward = 0\n",
    "            done = False\n",
    "\n",
    "            while not done:\n",
    "                action = self.exploration(epsilon, state)\n",
    "                next_state, reward, done, info = self.env.step(action)\n",
    "                self.q_table[state][action] = self.q_table[state][action] + beta * (reward + gamma * np.max(self.q_table[next_state, :]) - self.q_table[state][action])\n",
    "                state = next_state\n",
    "                episode_reward += reward\n",
    "\n",
    "            self.rewards_history.append(episode_reward)\n",
    "\n",
    "            if i > 0 and i % evaluate_step == 0 and print_evaluate_info:\n",
    "                print(\"Evaluate #\", i // evaluate_step, ' Mean reward: ', self.evaluate(evaluate_episodes))\n",
    "\n",
    "    def evaluate(self, evaluate_episodes):\n",
    "        episodes_rewards = []\n",
    "        for i in range(evaluate_episodes):\n",
    "            state = self.env.reset()\n",
    "            episode_reward = 0\n",
    "            done = False\n",
    "\n",
    "            while not done:\n",
    "                action = np.argmax(self.q_table[state])\n",
    "                next_state, reward, done, info = self.env.step(action)\n",
    "                state = next_state\n",
    "                episode_reward += reward\n",
    "\n",
    "            episodes_rewards.append(episode_reward)\n",
    "\n",
    "        return np.mean(episodes_rewards)"
   ],
   "metadata": {
    "collapsed": false
   }
  },
  {
   "cell_type": "code",
   "execution_count": 337,
   "outputs": [],
   "source": [
    "class Simulation:\n",
    "    def __init__(self):\n",
    "        self.simulation_list = []\n",
    "\n",
    "    def get_parametrs(self):\n",
    "        return [self.simulation_list]\n",
    "\n",
    "    def simulate(self, train_episodes, epsilon, beta, gamma, evaluate_step, evaluate_episodes, print_evaluate_info=False):\n",
    "        qL = QLearning(\"Taxi-v3\")\n",
    "\n",
    "        start_time = time.time()\n",
    "        qL.train(train_episodes, epsilon, beta, gamma, evaluate_step, evaluate_episodes, print_evaluate_info)\n",
    "        end_time = time.time()\n",
    "\n",
    "        self.simulation_list.append([train_episodes, epsilon, beta, gamma, qL.evaluate(evaluate_episodes), end_time - start_time])\n",
    "\n",
    "        plt.plot(qL.rewards_history)\n",
    "        plt.show()\n",
    "\n",
    "    def get_simulation_table(self):\n",
    "        return pd.DataFrame(self.simulation_list, columns=[\"episodes\", \"epsilon\", \"beta\", \"gamma\", \"evaluation\", \"train time\"])\n"
   ],
   "metadata": {
    "collapsed": false
   }
  },
  {
   "cell_type": "code",
   "execution_count": 338,
   "outputs": [
    {
     "name": "stdout",
     "output_type": "stream",
     "text": [
      "Evaluate # 1  Mean reward:  7.6\n",
      "Evaluate # 2  Mean reward:  7.7\n",
      "Evaluate # 3  Mean reward:  8.0\n",
      "Evaluate # 4  Mean reward:  7.1\n",
      "Evaluate # 5  Mean reward:  7.8\n",
      "Evaluate # 6  Mean reward:  8.8\n",
      "Evaluate # 7  Mean reward:  7.9\n",
      "Evaluate # 8  Mean reward:  8.2\n",
      "Evaluate # 9  Mean reward:  8.1\n"
     ]
    }
   ],
   "source": [
    "qL = QLearning(\"Taxi-v3\")\n",
    "qL.train(train_episodes=10000, epsilon=0.01, beta=0.6, gamma=0.8, evaluate_step=1000, evaluate_episodes=10, print_evaluate_info=True)"
   ],
   "metadata": {
    "collapsed": false
   }
  },
  {
   "cell_type": "code",
   "execution_count": 339,
   "outputs": [
    {
     "data": {
      "text/plain": "<Figure size 432x288 with 1 Axes>",
      "image/png": "[encoded data removed]"
     },
     "metadata": {},
     "output_type": "display_data"
    }
   ],
   "source": [
    "plt.plot(qL.rewards_history)\n",
    "plt.show()"
   ],
   "metadata": {
    "collapsed": false
   }
  },
  {
   "cell_type": "code",
   "execution_count": 340,
   "outputs": [
    {
     "name": "stdout",
     "output_type": "stream",
     "text": [
      "Evaluate # 1  Mean reward:  9.4\n",
      "Evaluate # 2  Mean reward:  7.8\n",
      "Evaluate # 3  Mean reward:  7.5\n",
      "Evaluate # 4  Mean reward:  8.0\n",
      "Evaluate # 5  Mean reward:  8.0\n",
      "Evaluate # 6  Mean reward:  8.5\n",
      "Evaluate # 7  Mean reward:  7.9\n",
      "Evaluate # 8  Mean reward:  7.4\n",
      "Evaluate # 9  Mean reward:  7.3\n"
     ]
    },
    {
     "data": {
      "text/plain": "<Figure size 432x288 with 1 Axes>",
      "image/png": "[encoded data removed]"
     },
     "metadata": {},
     "output_type": "display_data"
    }
   ],
   "source": [
    "simulation = Simulation()\n",
    "simulation.simulate(train_episodes=10000, epsilon=0.01, beta=0.6, gamma=0.8, evaluate_step=1000, evaluate_episodes=10, print_evaluate_info=True)"
   ],
   "metadata": {
    "collapsed": false
   }
  },
  {
   "cell_type": "code",
   "execution_count": 341,
   "outputs": [
    {
     "name": "stdout",
     "output_type": "stream",
     "text": [
      "Evaluate # 1  Mean reward:  7.7\n",
      "Evaluate # 2  Mean reward:  9.0\n",
      "Evaluate # 3  Mean reward:  7.7\n",
      "Evaluate # 4  Mean reward:  6.8\n",
      "Evaluate # 5  Mean reward:  7.4\n",
      "Evaluate # 6  Mean reward:  7.8\n",
      "Evaluate # 7  Mean reward:  8.0\n",
      "Evaluate # 8  Mean reward:  7.1\n",
      "Evaluate # 9  Mean reward:  7.3\n"
     ]
    },
    {
     "data": {
      "text/plain": "<Figure size 432x288 with 1 Axes>",
      "image/png": "[encoded data removed]"
     },
     "metadata": {},
     "output_type": "display_data"
    }
   ],
   "source": [
    "simulation.simulate(train_episodes=10000, epsilon=0.05, beta=0.6, gamma=0.8, evaluate_step=1000, evaluate_episodes=10, print_evaluate_info=True)"
   ],
   "metadata": {
    "collapsed": false
   }
  },
  {
   "cell_type": "code",
   "execution_count": 342,
   "outputs": [
    {
     "name": "stdout",
     "output_type": "stream",
     "text": [
      "Evaluate # 1  Mean reward:  7.3\n",
      "Evaluate # 2  Mean reward:  7.2\n",
      "Evaluate # 3  Mean reward:  8.0\n",
      "Evaluate # 4  Mean reward:  7.5\n",
      "Evaluate # 5  Mean reward:  8.3\n",
      "Evaluate # 6  Mean reward:  7.4\n",
      "Evaluate # 7  Mean reward:  8.7\n",
      "Evaluate # 8  Mean reward:  8.7\n",
      "Evaluate # 9  Mean reward:  8.3\n"
     ]
    },
    {
     "data": {
      "text/plain": "<Figure size 432x288 with 1 Axes>",
      "image/png": "[encoded data removed]"
     },
     "metadata": {},
     "output_type": "display_data"
    }
   ],
   "source": [
    "simulation.simulate(train_episodes=10000, epsilon=0.1, beta=0.9, gamma=0.5, evaluate_step=1000, evaluate_episodes=10, print_evaluate_info=True)"
   ],
   "metadata": {
    "collapsed": false
   }
  },
  {
   "cell_type": "code",
   "execution_count": 343,
   "outputs": [
    {
     "data": {
      "text/plain": "   episodes  epsilon  beta  gamma  evaluation  train time\n0     10000     0.01   0.6    0.8         9.0    5.060946\n1     10000     0.05   0.6    0.8         9.2    4.953387\n2     10000     0.10   0.9    0.5         9.2    5.729501",
      "text/html": "<div>\n<style scoped>\n    .dataframe tbody tr th:only-of-type {\n        vertical-align: middle;\n    }\n\n    .dataframe tbody tr th {\n        vertical-align: top;\n    }\n\n    .dataframe thead th {\n        text-align: right;\n    }\n</style>\n<table border=\"1\" class=\"dataframe\">\n  <thead>\n    <tr style=\"text-align: right;\">\n      <th></th>\n      <th>episodes</th>\n      <th>epsilon</th>\n      <th>beta</th>\n      <th>gamma</th>\n      <th>evaluation</th>\n      <th>train time</th>\n    </tr>\n  </thead>\n  <tbody>\n    <tr>\n      <th>0</th>\n      <td>10000</td>\n      <td>0.01</td>\n      <td>0.6</td>\n      <td>0.8</td>\n      <td>9.0</td>\n      <td>5.060946</td>\n    </tr>\n    <tr>\n      <th>1</th>\n      <td>10000</td>\n      <td>0.05</td>\n      <td>0.6</td>\n      <td>0.8</td>\n      <td>9.2</td>\n      <td>4.953387</td>\n    </tr>\n    <tr>\n      <th>2</th>\n      <td>10000</td>\n      <td>0.10</td>\n      <td>0.9</td>\n      <td>0.5</td>\n      <td>9.2</td>\n      <td>5.729501</td>\n    </tr>\n  </tbody>\n</table>\n</div>"
     },
     "execution_count": 343,
     "metadata": {},
     "output_type": "execute_result"
    }
   ],
   "source": [
    "simulation.get_simulation_table()"
   ],
   "metadata": {
    "collapsed": false
   }
  },
  {
   "cell_type": "code",
   "execution_count": 343,
   "outputs": [],
   "source": [],
   "metadata": {
    "collapsed": false
   }
  }
 ],
 "metadata": {
  "kernelspec": {
   "display_name": "Python 3",
   "language": "python",
   "name": "python3"
  },
  "language_info": {
   "codemirror_mode": {
    "name": "ipython",
    "version": 2
   },
   "file_extension": ".py",
   "mimetype": "text/x-python",
   "name": "python",
   "nbconvert_exporter": "python",
   "pygments_lexer": "ipython2",
   "version": "2.7.6"
  }
 },
 "nbformat": 4,
 "nbformat_minor": 0
}
