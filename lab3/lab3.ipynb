{
 "cells": [
  {
   "cell_type": "markdown",
   "source": [
    "# WSI ćwiczenie 3\n",
    "## Dwuosobowe gry deterministyczne\n",
    "## Yaroslav Harbar\n",
    "\n",
    "Celem tego ćwiczenia było zaimplementowanie algorytmu minimax z obcinaniem alpha, beta. Dla poprawnego działania algorytmu stworzyłem funkcje *all_unique_moves*, która zlicza wszystkie możliwe kombinacje liczb, żeby ich suma dawała wynik *aim_value*. W funkcji *heuristic* filtruje te kombinacje tak, aby wszystkie liczby w pojedynczej kombinacji były ze zbioru już wybranych liczb dla bieżącego użytkownika lub ze zbioru jeszcze niewybranych liczb. Następnie szukam wartości zysku bieżącego stanu gry, iterując po każdej kombinacji i licząc ilość liczb w niej występujących, które zostały wybrane przez bieżącego gracza, i sumując ją do ogólnej oceny. Jeżeli gra została ukończona, to funkcja heurystyczna zwraca dużą wartość, w moim przypadku jest to 100000000000000000 (-100000000000000000)."
   ],
   "metadata": {
    "collapsed": false
   }
  },
  {
   "cell_type": "code",
   "execution_count": 2,
   "outputs": [],
   "source": [
    "from copy import deepcopy\n",
    "import random"
   ],
   "metadata": {
    "collapsed": false
   }
  },
  {
   "cell_type": "code",
   "execution_count": 3,
   "outputs": [],
   "source": [
    "import itertools\n",
    "from typing import Iterable, List, Optional\n",
    "from two_player_games.game import Game\n",
    "from two_player_games.move import Move\n",
    "from two_player_games.player import Player\n",
    "from two_player_games.state import State\n",
    "\n",
    "\n",
    "class Pick(Game):\n",
    "    \"\"\"Class that represents the Pick game\"\"\"\n",
    "    FIRST_PLAYER_DEFAULT_CHAR = '1'\n",
    "    SECOND_PLAYER_DEFAULT_CHAR = '2'\n",
    "\n",
    "    def __init__(self, first_player: Player = None, second_player: Player = None, n: int = 4):\n",
    "        \"\"\"\n",
    "        Initializes game.\n",
    "\n",
    "        Parameters:\n",
    "            first_player: the player that will go first (if None is passed, a player will be created)\n",
    "            second_player: the player that will go second (if None is passed, a player will be created)\n",
    "            n: the subset size of picked numbers that should sum up to aim value\n",
    "        \"\"\"\n",
    "\n",
    "        self.first_player = first_player or Player(self.FIRST_PLAYER_DEFAULT_CHAR)\n",
    "        self.second_player = second_player or Player(self.SECOND_PLAYER_DEFAULT_CHAR)\n",
    "        state = PickState(self.first_player, self.second_player, n)\n",
    "        super().__init__(state)\n",
    "        self.all_combinations = self.all_unique_moves()\n",
    "\n",
    "    def all_unique_moves(self):\n",
    "        candidates = range(1, self.state.max_number + 1)\n",
    "\n",
    "        def backtrack(i, target):\n",
    "            combinations = []\n",
    "            for index in range(i, len(candidates)):\n",
    "                num = candidates[index]\n",
    "                if index > i and num == candidates[index - 1]:\n",
    "                    continue\n",
    "                if num < target:\n",
    "                    combinations.extend([num] + comb for comb in backtrack(index + 1, target - num))\n",
    "                else:\n",
    "                    if num == target:\n",
    "                        combinations.append([num])\n",
    "                    break\n",
    "            return combinations\n",
    "\n",
    "        all_combination = backtrack(0, self.state.aim_value)\n",
    "        all_combination = [item for item in all_combination if len(item) == self.state.n]\n",
    "\n",
    "        return all_combination\n",
    "\n",
    "\n",
    "class PickMove(Move):\n",
    "    \"\"\"\n",
    "    Class that represents a move in the PickMove game\n",
    "\n",
    "    Variables:\n",
    "        number: selected number (from 1 to n^2)\n",
    "    \"\"\"\n",
    "\n",
    "    def __init__(self, number: int):\n",
    "        self.number = number\n",
    "\n",
    "    def __eq__(self, o: object) -> bool:\n",
    "        if not isinstance(o, PickMove):\n",
    "            return False\n",
    "        return self.number == o.number\n",
    "\n",
    "    def __str__(self) -> str:\n",
    "        return f\"{self.number}\"\n",
    "\n",
    "\n",
    "class PickState(State):\n",
    "    \"\"\"Class that represents a state in the PickState game\"\"\"\n",
    "\n",
    "    def __init__(self,\n",
    "                 current_player: Player, other_player: Player, n,\n",
    "                 current_player_numbers: List[int] = None,\n",
    "                 other_player_numbers: List[int] = None):\n",
    "        \"\"\"Creates the state. Do not call directly.\"\"\"\n",
    "\n",
    "        if current_player_numbers is None:\n",
    "            current_player_numbers = []\n",
    "        if other_player_numbers is None:\n",
    "            other_player_numbers = []\n",
    "\n",
    "        self.current_player_numbers = current_player_numbers\n",
    "        self.other_player_numbers = other_player_numbers\n",
    "        self.selected_numbers = set(self.current_player_numbers).union(self.other_player_numbers)\n",
    "        self.n = n\n",
    "        self.max_number = n ** 2\n",
    "        self.aim_value = int((n ** 2 * (n ** 2 + 1)) / (2 * n))\n",
    "        super().__init__(current_player, other_player)\n",
    "\n",
    "    def get_moves(self) -> Iterable[PickMove]:\n",
    "        return [PickMove(number) for number in range(1, self.max_number + 1) if number not in self.selected_numbers]\n",
    "\n",
    "    def make_move(self, move: PickMove) -> 'PickState':\n",
    "        if move.number > self.max_number or move.number in self.selected_numbers:\n",
    "            raise ValueError(\"Invalid move\")\n",
    "        else:\n",
    "            next_player = self._other_player\n",
    "            next_player_numbers = self.other_player_numbers\n",
    "\n",
    "            other_player = self._current_player\n",
    "            other_player_numbers = self.current_player_numbers + [move.number]\n",
    "\n",
    "        return PickState(\n",
    "            next_player, other_player, self.n, next_player_numbers, other_player_numbers\n",
    "        )\n",
    "\n",
    "    def is_finished(self) -> bool:\n",
    "        return self._check_if_sums_to_aim_value(self.current_player_numbers) or \\\n",
    "               self._check_if_sums_to_aim_value(self.other_player_numbers) or \\\n",
    "               len(self.selected_numbers) == self.max_number\n",
    "\n",
    "    def get_winner(self) -> Optional[Player]:\n",
    "        if not self.is_finished():\n",
    "            return None\n",
    "        if self._check_if_sums_to_aim_value(self.current_player_numbers):\n",
    "            return self._current_player\n",
    "        elif self._check_if_sums_to_aim_value(self.other_player_numbers):\n",
    "            return self._other_player\n",
    "        else:\n",
    "            return None\n",
    "\n",
    "    def __str__(self) -> str:\n",
    "        return f\"n: {self.n}, aim_value: {self.aim_value}\" \\\n",
    "               f\"\\nCurrent player: {self._current_player.char}, Numbers: \" \\\n",
    "               f\"{'[]' if not self.current_player_numbers else sorted(self.current_player_numbers)},\" \\\n",
    "               f\"\\nOther player: {self._other_player.char}, Numbers: \" \\\n",
    "               f\"{'[]' if not self.other_player_numbers else sorted(self.other_player_numbers)}\"\n",
    "\n",
    "    # below are helper methods for the public interface\n",
    "\n",
    "    def _check_if_sums_to_aim_value(self, numbers: List[int]) -> bool:\n",
    "        return self.aim_value in [sum(i) for i in itertools.combinations(numbers, self.n)]"
   ],
   "metadata": {
    "collapsed": false
   }
  },
  {
   "cell_type": "code",
   "execution_count": 4,
   "outputs": [],
   "source": [
    "def heuristic(game, maximizing_player):\n",
    "    if game.is_finished():\n",
    "        if game.get_winner():\n",
    "            if maximizing_player:\n",
    "                return -100000000000000000\n",
    "            else:\n",
    "                return 100000000000000000\n",
    "        else:\n",
    "            return 0\n",
    "\n",
    "    current_player_moves = game.state.current_player_numbers\n",
    "    possible_moves = [item.number for item in game.state.get_moves()]\n",
    "\n",
    "    new_combinations = []\n",
    "    score = 0\n",
    "\n",
    "    for combination in game.all_combinations:\n",
    "        good = True\n",
    "        for item in combination:\n",
    "            if item not in possible_moves and item not in current_player_moves:\n",
    "                good = False\n",
    "                break\n",
    "\n",
    "        if good:\n",
    "            new_combinations.append(combination)\n",
    "\n",
    "    for combination in new_combinations:\n",
    "        count = 0\n",
    "        for item in combination:\n",
    "            if item in current_player_moves:\n",
    "                count += 1\n",
    "        score += pow(10, count)\n",
    "\n",
    "    if maximizing_player:\n",
    "        return -score\n",
    "    return score"
   ],
   "metadata": {
    "collapsed": false
   }
  },
  {
   "cell_type": "markdown",
   "source": [
    "## Implementacja algorytmu minmax z obcinaniem a, b\n",
    "Algorytm polega na minimalizowaniu (maksymalizowaniu) możliwego zysku oraz redukcję stanów, w przypadku gdy algorytm znalazł przynajmniej jedno rozwiązanie czyniące obecnie badaną opcję gorszą od poprzednio zbadanych opcji. W środku tego algorytmu zaimplementowałem możliwość zwracania losowego ruchu spośród ruchów, który dają ten sam maksymalny (minimalny) wynik."
   ],
   "metadata": {
    "collapsed": false
   }
  },
  {
   "cell_type": "code",
   "execution_count": 5,
   "outputs": [],
   "source": [
    "def minimax(game: Pick, depth, alpha, beta, maximizing_player):\n",
    "    if depth == 0 or game.state.is_finished():\n",
    "        return [heuristic(game, maximizing_player), 0]\n",
    "\n",
    "    if maximizing_player:\n",
    "        max_val = float('-inf')\n",
    "        moves = {}\n",
    "\n",
    "        for possible_move in game.get_moves():\n",
    "            game_copy = deepcopy(game)\n",
    "            game_copy.make_move(possible_move)\n",
    "\n",
    "            [val, _] = minimax(game_copy, depth - 1, alpha, beta, False)\n",
    "\n",
    "            if val > max_val:\n",
    "                max_val = val\n",
    "                moves = {f\"{max_val}\": [possible_move]}\n",
    "            elif val == max_val:\n",
    "                moves[f\"{max_val}\"].append(possible_move)\n",
    "\n",
    "            alpha = max(alpha, max_val)\n",
    "\n",
    "            if beta <= alpha:\n",
    "                break\n",
    "        return [max_val, random.choice(moves[f\"{max_val}\"])]\n",
    "    else:\n",
    "        min_val = float('inf')\n",
    "        moves = {}\n",
    "\n",
    "        for possible_move in game.get_moves():\n",
    "            game_copy = deepcopy(game)\n",
    "            game_copy.make_move(possible_move)\n",
    "\n",
    "            [val, _] = minimax(game_copy, depth - 1, alpha, beta, True)\n",
    "\n",
    "            if val < min_val:\n",
    "                min_val = val\n",
    "                moves = {f\"{min_val}\": [possible_move]}\n",
    "            elif val == min_val:\n",
    "                moves[f\"{min_val}\"].append(possible_move)\n",
    "\n",
    "            beta = min(beta, min_val)\n",
    "\n",
    "            if beta <= alpha:\n",
    "                break\n",
    "        return [min_val, random.choice(moves[f\"{min_val}\"])]"
   ],
   "metadata": {
    "collapsed": false
   }
  },
  {
   "cell_type": "markdown",
   "source": [
    "Stworzyłem też funkcje *two_computers_game* do symulacji gry dwóch komputerów, dzięki której testuję działanie algorytmu."
   ],
   "metadata": {
    "collapsed": false
   }
  },
  {
   "cell_type": "code",
   "execution_count": 6,
   "outputs": [],
   "source": [
    "def two_computers_game(size, depth_arr, p=False):\n",
    "    game = Pick(n=size)\n",
    "    player = 0\n",
    "\n",
    "    while not game.state.is_finished():\n",
    "        [combinations, move] = minimax(game, depth_arr[player], float('-inf'), float('inf'), True)\n",
    "\n",
    "        if p:\n",
    "            print(f\"player: {player+1}, scale value: {combinations}, move: {move.number}, PLAYER_MOVES: {game.state.current_player_numbers}\")\n",
    "\n",
    "        game.make_move(move)\n",
    "\n",
    "        player = 0 if player == 1 else 1\n",
    "\n",
    "    if p:\n",
    "        if game.state.get_winner():\n",
    "            print(\"Winner: \", game.state.get_winner().char)\n",
    "        else:\n",
    "            print(\"Draw\")\n",
    "\n",
    "    # return game.state.get_winner()"
   ],
   "metadata": {
    "collapsed": false
   }
  },
  {
   "cell_type": "markdown",
   "source": [
    "# Symulacja gry dwóch komputerów\n",
    "Przeprowadziłem symulacje dla różnych wielkości gry oraz dla różnych głębokości AI_1 oraz AI_2."
   ],
   "metadata": {
    "collapsed": false
   }
  },
  {
   "cell_type": "code",
   "execution_count": 7,
   "outputs": [
    {
     "name": "stdout",
     "output_type": "stream",
     "text": [
      "player: 1, scale value: 67, move: 1, PLAYER_MOVES: []\n",
      "player: 2, scale value: 228, move: 2, PLAYER_MOVES: []\n",
      "player: 1, scale value: 200, move: 4, PLAYER_MOVES: [1]\n",
      "player: 2, scale value: 515, move: 3, PLAYER_MOVES: [2]\n",
      "player: 1, scale value: 445, move: 5, PLAYER_MOVES: [1, 4]\n",
      "player: 2, scale value: 1031, move: 7, PLAYER_MOVES: [2, 3]\n",
      "player: 1, scale value: 1100, move: 6, PLAYER_MOVES: [1, 4, 5]\n",
      "player: 2, scale value: 1740, move: 8, PLAYER_MOVES: [2, 3, 7]\n",
      "player: 1, scale value: 2410, move: 12, PLAYER_MOVES: [1, 4, 5, 6]\n",
      "player: 2, scale value: 100000000000000000, move: 16, PLAYER_MOVES: [2, 3, 7, 8]\n",
      "Winner:  2\n"
     ]
    }
   ],
   "source": [
    "two_computers_game(4, [1,1], p=True)"
   ],
   "metadata": {
    "collapsed": false
   }
  },
  {
   "cell_type": "code",
   "execution_count": 8,
   "outputs": [
    {
     "name": "stdout",
     "output_type": "stream",
     "text": [
      "player: 1, scale value: -228, move: 16, PLAYER_MOVES: []\n",
      "player: 2, scale value: 228, move: 15, PLAYER_MOVES: []\n",
      "player: 1, scale value: -416, move: 14, PLAYER_MOVES: [16]\n",
      "player: 2, scale value: 416, move: 12, PLAYER_MOVES: [15]\n",
      "player: 1, scale value: -852, move: 13, PLAYER_MOVES: [16, 14]\n",
      "player: 2, scale value: 852, move: 8, PLAYER_MOVES: [15, 12]\n",
      "player: 1, scale value: -1390, move: 7, PLAYER_MOVES: [16, 14, 13]\n",
      "player: 2, scale value: 1390, move: 11, PLAYER_MOVES: [15, 12, 8]\n",
      "player: 1, scale value: -4830, move: 3, PLAYER_MOVES: [16, 14, 13, 7]\n",
      "player: 2, scale value: 4830, move: 6, PLAYER_MOVES: [15, 12, 8, 11]\n",
      "player: 1, scale value: 100000000000000000, move: 1, PLAYER_MOVES: [16, 14, 13, 7, 3]\n",
      "Winner:  1\n"
     ]
    }
   ],
   "source": [
    "two_computers_game(4, [2,1], p=True)"
   ],
   "metadata": {
    "collapsed": false
   }
  },
  {
   "cell_type": "code",
   "execution_count": 9,
   "outputs": [
    {
     "name": "stdout",
     "output_type": "stream",
     "text": [
      "player: 1, scale value: 173, move: 10, PLAYER_MOVES: []\n",
      "player: 2, scale value: 247, move: 16, PLAYER_MOVES: []\n",
      "player: 1, scale value: 338, move: 15, PLAYER_MOVES: [10]\n",
      "player: 2, scale value: 668, move: 13, PLAYER_MOVES: [16]\n",
      "player: 1, scale value: 1797, move: 5, PLAYER_MOVES: [10, 15]\n",
      "player: 2, scale value: 1977, move: 9, PLAYER_MOVES: [16, 13]\n",
      "player: 1, scale value: 100000000000000000, move: 3, PLAYER_MOVES: [10, 15, 5]\n",
      "player: 2, scale value: 4013, move: 1, PLAYER_MOVES: [16, 13, 9]\n",
      "player: 1, scale value: 100000000000000000, move: 4, PLAYER_MOVES: [10, 15, 5, 3]\n",
      "Winner:  1\n"
     ]
    }
   ],
   "source": [
    "two_computers_game(4, [3,1], p=True)"
   ],
   "metadata": {
    "collapsed": false
   }
  },
  {
   "cell_type": "code",
   "execution_count": 10,
   "outputs": [
    {
     "name": "stdout",
     "output_type": "stream",
     "text": [
      "player: 1, scale value: -416, move: 1, PLAYER_MOVES: []\n",
      "player: 2, scale value: 228, move: 2, PLAYER_MOVES: []\n",
      "player: 1, scale value: -852, move: 3, PLAYER_MOVES: [1]\n",
      "player: 2, scale value: 416, move: 5, PLAYER_MOVES: [2]\n",
      "player: 1, scale value: -2187, move: 16, PLAYER_MOVES: [1, 3]\n",
      "player: 2, scale value: 1883, move: 15, PLAYER_MOVES: [2, 5]\n",
      "player: 1, scale value: 100000000000000000, move: 14, PLAYER_MOVES: [1, 3, 16]\n",
      "Winner:  1\n"
     ]
    }
   ],
   "source": [
    "two_computers_game(4, [4,1], p=True)"
   ],
   "metadata": {
    "collapsed": false
   }
  },
  {
   "cell_type": "code",
   "execution_count": 11,
   "outputs": [
    {
     "name": "stdout",
     "output_type": "stream",
     "text": [
      "player: 1, scale value: 67, move: 16, PLAYER_MOVES: []\n",
      "player: 2, scale value: -161, move: 1, PLAYER_MOVES: []\n",
      "player: 1, scale value: 161, move: 2, PLAYER_MOVES: [16]\n",
      "player: 2, scale value: -245, move: 3, PLAYER_MOVES: [1]\n",
      "player: 1, scale value: 245, move: 5, PLAYER_MOVES: [16, 2]\n",
      "player: 2, scale value: -853, move: 11, PLAYER_MOVES: [1, 3]\n",
      "player: 1, scale value: 853, move: 4, PLAYER_MOVES: [16, 2, 5]\n",
      "player: 2, scale value: -100000000000000000, move: 7, PLAYER_MOVES: [1, 3, 11]\n",
      "player: 1, scale value: 100000000000000000, move: 12, PLAYER_MOVES: [16, 2, 5, 4]\n",
      "Winner:  1\n"
     ]
    }
   ],
   "source": [
    "two_computers_game(4, [1,2], p=True)"
   ],
   "metadata": {
    "collapsed": false
   }
  },
  {
   "cell_type": "code",
   "execution_count": 12,
   "outputs": [
    {
     "name": "stdout",
     "output_type": "stream",
     "text": [
      "player: 1, scale value: -228, move: 1, PLAYER_MOVES: []\n",
      "player: 2, scale value: -161, move: 16, PLAYER_MOVES: []\n",
      "player: 1, scale value: -277, move: 2, PLAYER_MOVES: [1]\n",
      "player: 2, scale value: -173, move: 15, PLAYER_MOVES: [16]\n",
      "player: 1, scale value: -253, move: 3, PLAYER_MOVES: [1, 2]\n",
      "player: 2, scale value: -131, move: 14, PLAYER_MOVES: [16, 15]\n",
      "player: 1, scale value: -185, move: 5, PLAYER_MOVES: [1, 2, 3]\n",
      "player: 2, scale value: -84, move: 12, PLAYER_MOVES: [16, 15, 14]\n",
      "player: 1, scale value: -101, move: 4, PLAYER_MOVES: [1, 2, 3, 5]\n",
      "player: 2, scale value: -21, move: 13, PLAYER_MOVES: [16, 15, 14, 12]\n",
      "player: 1, scale value: -30, move: 7, PLAYER_MOVES: [1, 2, 3, 5, 4]\n",
      "player: 2, scale value: 0, move: 11, PLAYER_MOVES: [16, 15, 14, 12, 13]\n",
      "player: 1, scale value: 0, move: 6, PLAYER_MOVES: [1, 2, 3, 5, 4, 7]\n",
      "player: 2, scale value: 0, move: 9, PLAYER_MOVES: [16, 15, 14, 12, 13, 11]\n",
      "player: 1, scale value: 0, move: 10, PLAYER_MOVES: [1, 2, 3, 5, 4, 7, 6]\n",
      "player: 2, scale value: 0, move: 8, PLAYER_MOVES: [16, 15, 14, 12, 13, 11, 9]\n",
      "Draw\n"
     ]
    }
   ],
   "source": [
    "two_computers_game(4, [2,2], p=True)"
   ],
   "metadata": {
    "collapsed": false
   }
  },
  {
   "cell_type": "code",
   "execution_count": 13,
   "outputs": [
    {
     "name": "stdout",
     "output_type": "stream",
     "text": [
      "player: 1, scale value: 173, move: 8, PLAYER_MOVES: []\n",
      "player: 2, scale value: -166, move: 13, PLAYER_MOVES: []\n",
      "player: 1, scale value: 429, move: 15, PLAYER_MOVES: [8]\n",
      "player: 2, scale value: -429, move: 16, PLAYER_MOVES: [13]\n",
      "player: 1, scale value: 1806, move: 7, PLAYER_MOVES: [8, 15]\n",
      "player: 2, scale value: -1806, move: 4, PLAYER_MOVES: [13, 16]\n",
      "player: 1, scale value: 100000000000000000, move: 1, PLAYER_MOVES: [8, 15, 7]\n",
      "player: 2, scale value: -100000000000000000, move: 3, PLAYER_MOVES: [13, 16, 4]\n",
      "player: 1, scale value: 100000000000000000, move: 11, PLAYER_MOVES: [8, 15, 7, 1]\n",
      "Winner:  1\n"
     ]
    }
   ],
   "source": [
    "two_computers_game(4, [3,2], p=True)"
   ],
   "metadata": {
    "collapsed": false
   }
  },
  {
   "cell_type": "code",
   "execution_count": 14,
   "outputs": [
    {
     "name": "stdout",
     "output_type": "stream",
     "text": [
      "player: 1, scale value: -416, move: 11, PLAYER_MOVES: []\n",
      "player: 2, scale value: -165, move: 14, PLAYER_MOVES: []\n",
      "player: 1, scale value: -1009, move: 1, PLAYER_MOVES: [11]\n",
      "player: 2, scale value: -226, move: 16, PLAYER_MOVES: [14]\n",
      "player: 1, scale value: -905, move: 7, PLAYER_MOVES: [11, 1]\n",
      "player: 2, scale value: -293, move: 15, PLAYER_MOVES: [14, 16]\n",
      "player: 1, scale value: 100000000000000000, move: 12, PLAYER_MOVES: [11, 1, 7]\n",
      "player: 2, scale value: -100000000000000000, move: 9, PLAYER_MOVES: [14, 16, 15]\n",
      "player: 1, scale value: 100000000000000000, move: 8, PLAYER_MOVES: [11, 1, 7, 12]\n",
      "player: 2, scale value: -100000000000000000, move: 13, PLAYER_MOVES: [14, 16, 15, 9]\n",
      "player: 1, scale value: 100000000000000000, move: 2, PLAYER_MOVES: [11, 1, 7, 12, 8]\n",
      "player: 2, scale value: -100000000000000000, move: 5, PLAYER_MOVES: [14, 16, 15, 9, 13]\n",
      "player: 1, scale value: 100000000000000000, move: 3, PLAYER_MOVES: [11, 1, 7, 12, 8, 2]\n",
      "Winner:  1\n"
     ]
    }
   ],
   "source": [
    "two_computers_game(4, [4,2], p=True)"
   ],
   "metadata": {
    "collapsed": false
   }
  },
  {
   "cell_type": "code",
   "execution_count": 26,
   "outputs": [
    {
     "name": "stdout",
     "output_type": "stream",
     "text": [
      "player: 1, scale value: 67, move: 16, PLAYER_MOVES: []\n",
      "player: 2, scale value: 416, move: 15, PLAYER_MOVES: []\n",
      "player: 1, scale value: 200, move: 14, PLAYER_MOVES: [16]\n",
      "player: 2, scale value: 852, move: 8, PLAYER_MOVES: [15]\n",
      "player: 1, scale value: 596, move: 3, PLAYER_MOVES: [16, 14]\n",
      "player: 2, scale value: 2852, move: 1, PLAYER_MOVES: [15, 8]\n",
      "player: 1, scale value: 1721, move: 2, PLAYER_MOVES: [16, 14, 3]\n",
      "player: 2, scale value: 100000000000000000, move: 10, PLAYER_MOVES: [15, 8, 1]\n",
      "Winner:  2\n"
     ]
    }
   ],
   "source": [
    "two_computers_game(4, [1,3], p=True)"
   ],
   "metadata": {
    "collapsed": false
   }
  },
  {
   "cell_type": "code",
   "execution_count": 16,
   "outputs": [
    {
     "name": "stdout",
     "output_type": "stream",
     "text": [
      "player: 1, scale value: -228, move: 16, PLAYER_MOVES: []\n",
      "player: 2, scale value: 416, move: 15, PLAYER_MOVES: []\n",
      "player: 1, scale value: -416, move: 14, PLAYER_MOVES: [16]\n",
      "player: 2, scale value: 852, move: 8, PLAYER_MOVES: [15]\n",
      "player: 1, scale value: -852, move: 13, PLAYER_MOVES: [16, 14]\n",
      "player: 2, scale value: 3742, move: 10, PLAYER_MOVES: [15, 8]\n",
      "player: 1, scale value: -3742, move: 1, PLAYER_MOVES: [16, 14, 13]\n",
      "player: 2, scale value: -100000000000000000, move: 11, PLAYER_MOVES: [15, 8, 10]\n",
      "player: 1, scale value: 100000000000000000, move: 6, PLAYER_MOVES: [16, 14, 13, 1]\n",
      "Winner:  1\n"
     ]
    }
   ],
   "source": [
    "two_computers_game(4, [2,3], p=True)"
   ],
   "metadata": {
    "collapsed": false
   }
  },
  {
   "cell_type": "code",
   "execution_count": 17,
   "outputs": [
    {
     "name": "stdout",
     "output_type": "stream",
     "text": [
      "player: 1, scale value: 173, move: 7, PLAYER_MOVES: []\n",
      "player: 2, scale value: 557, move: 2, PLAYER_MOVES: []\n",
      "player: 1, scale value: 427, move: 1, PLAYER_MOVES: [7]\n",
      "player: 2, scale value: 1092, move: 3, PLAYER_MOVES: [2]\n",
      "player: 1, scale value: 1637, move: 11, PLAYER_MOVES: [7, 1]\n",
      "player: 2, scale value: 3045, move: 15, PLAYER_MOVES: [2, 3]\n",
      "player: 1, scale value: 100000000000000000, move: 16, PLAYER_MOVES: [7, 1, 11]\n",
      "player: 2, scale value: 100000000000000000, move: 14, PLAYER_MOVES: [2, 3, 15]\n",
      "Winner:  2\n"
     ]
    }
   ],
   "source": [
    "two_computers_game(4, [3,3], p=True)"
   ],
   "metadata": {
    "collapsed": false
   }
  },
  {
   "cell_type": "code",
   "execution_count": 23,
   "outputs": [
    {
     "name": "stdout",
     "output_type": "stream",
     "text": [
      "player: 1, scale value: -416, move: 9, PLAYER_MOVES: []\n",
      "player: 2, scale value: 557, move: 15, PLAYER_MOVES: []\n",
      "player: 1, scale value: -938, move: 2, PLAYER_MOVES: [9]\n",
      "player: 2, scale value: 938, move: 1, PLAYER_MOVES: [15]\n",
      "player: 1, scale value: -1263, move: 7, PLAYER_MOVES: [9, 2]\n",
      "player: 2, scale value: 1263, move: 16, PLAYER_MOVES: [15, 1]\n",
      "player: 1, scale value: 100000000000000000, move: 12, PLAYER_MOVES: [9, 2, 7]\n",
      "player: 2, scale value: -100000000000000000, move: 8, PLAYER_MOVES: [15, 1, 16]\n",
      "player: 1, scale value: 100000000000000000, move: 10, PLAYER_MOVES: [9, 2, 7, 12]\n",
      "player: 2, scale value: -100000000000000000, move: 11, PLAYER_MOVES: [15, 1, 16, 8]\n",
      "player: 1, scale value: 100000000000000000, move: 6, PLAYER_MOVES: [9, 2, 7, 12, 10]\n",
      "Winner:  1\n"
     ]
    }
   ],
   "source": [
    "two_computers_game(4, [4,3], p=True)"
   ],
   "metadata": {
    "collapsed": false
   }
  },
  {
   "cell_type": "code",
   "execution_count": 19,
   "outputs": [
    {
     "name": "stdout",
     "output_type": "stream",
     "text": [
      "player: 1, scale value: 67, move: 16, PLAYER_MOVES: []\n",
      "player: 2, scale value: -245, move: 1, PLAYER_MOVES: []\n",
      "player: 1, scale value: 161, move: 2, PLAYER_MOVES: [16]\n",
      "player: 2, scale value: -853, move: 5, PLAYER_MOVES: [1]\n",
      "player: 1, scale value: 345, move: 3, PLAYER_MOVES: [16, 2]\n",
      "player: 2, scale value: -1964, move: 13, PLAYER_MOVES: [1, 5]\n",
      "player: 1, scale value: 1655, move: 7, PLAYER_MOVES: [16, 2, 3]\n",
      "player: 2, scale value: 100000000000000000, move: 15, PLAYER_MOVES: [1, 5, 13]\n",
      "Winner:  2\n"
     ]
    }
   ],
   "source": [
    "two_computers_game(4, [1,4], p=True)"
   ],
   "metadata": {
    "collapsed": false
   }
  },
  {
   "cell_type": "code",
   "execution_count": 20,
   "outputs": [
    {
     "name": "stdout",
     "output_type": "stream",
     "text": [
      "player: 1, scale value: -228, move: 16, PLAYER_MOVES: []\n",
      "player: 2, scale value: -245, move: 1, PLAYER_MOVES: []\n",
      "player: 1, scale value: -277, move: 15, PLAYER_MOVES: [16]\n",
      "player: 2, scale value: -225, move: 2, PLAYER_MOVES: [1]\n",
      "player: 1, scale value: -253, move: 14, PLAYER_MOVES: [16, 15]\n",
      "player: 2, scale value: -161, move: 3, PLAYER_MOVES: [1, 2]\n",
      "player: 1, scale value: -185, move: 12, PLAYER_MOVES: [16, 15, 14]\n",
      "player: 2, scale value: -160, move: 6, PLAYER_MOVES: [1, 2, 3]\n",
      "player: 1, scale value: -211, move: 13, PLAYER_MOVES: [16, 15, 14, 12]\n",
      "player: 2, scale value: -110, move: 9, PLAYER_MOVES: [1, 2, 3, 6]\n",
      "player: 1, scale value: -330, move: 11, PLAYER_MOVES: [16, 15, 14, 12, 13]\n",
      "player: 2, scale value: 0, move: 7, PLAYER_MOVES: [1, 2, 3, 6, 9]\n",
      "player: 1, scale value: -200, move: 8, PLAYER_MOVES: [16, 15, 14, 12, 13, 11]\n",
      "player: 2, scale value: 0, move: 4, PLAYER_MOVES: [1, 2, 3, 6, 9, 7]\n",
      "player: 1, scale value: 0, move: 10, PLAYER_MOVES: [16, 15, 14, 12, 13, 11, 8]\n",
      "player: 2, scale value: 0, move: 5, PLAYER_MOVES: [1, 2, 3, 6, 9, 7, 4]\n",
      "Draw\n"
     ]
    }
   ],
   "source": [
    "two_computers_game(4, [2,4], p=True)"
   ],
   "metadata": {
    "collapsed": false
   }
  },
  {
   "cell_type": "code",
   "execution_count": 21,
   "outputs": [
    {
     "name": "stdout",
     "output_type": "stream",
     "text": [
      "player: 1, scale value: 173, move: 10, PLAYER_MOVES: []\n",
      "player: 2, scale value: -330, move: 1, PLAYER_MOVES: []\n",
      "player: 1, scale value: 330, move: 4, PLAYER_MOVES: [10]\n",
      "player: 2, scale value: -827, move: 13, PLAYER_MOVES: [1]\n",
      "player: 1, scale value: 827, move: 16, PLAYER_MOVES: [10, 4]\n",
      "player: 2, scale value: -772, move: 9, PLAYER_MOVES: [1, 13]\n",
      "player: 1, scale value: 772, move: 11, PLAYER_MOVES: [10, 4, 16]\n",
      "player: 2, scale value: -100000000000000000, move: 8, PLAYER_MOVES: [1, 13, 9]\n",
      "player: 1, scale value: 100000000000000000, move: 3, PLAYER_MOVES: [10, 4, 16, 11]\n",
      "Winner:  1\n"
     ]
    }
   ],
   "source": [
    "two_computers_game(4, [3,4], p=True)"
   ],
   "metadata": {
    "collapsed": false
   }
  },
  {
   "cell_type": "code",
   "execution_count": 22,
   "outputs": [
    {
     "name": "stdout",
     "output_type": "stream",
     "text": [
      "player: 1, scale value: -416, move: 1, PLAYER_MOVES: []\n",
      "player: 2, scale value: -245, move: 16, PLAYER_MOVES: []\n",
      "player: 1, scale value: -505, move: 2, PLAYER_MOVES: [1]\n",
      "player: 2, scale value: -225, move: 15, PLAYER_MOVES: [16]\n",
      "player: 1, scale value: -431, move: 3, PLAYER_MOVES: [1, 2]\n",
      "player: 2, scale value: -161, move: 14, PLAYER_MOVES: [16, 15]\n",
      "player: 1, scale value: -330, move: 4, PLAYER_MOVES: [1, 2, 3]\n",
      "player: 2, scale value: -80, move: 13, PLAYER_MOVES: [16, 15, 14]\n",
      "player: 1, scale value: -240, move: 5, PLAYER_MOVES: [1, 2, 3, 4]\n",
      "player: 2, scale value: -10, move: 12, PLAYER_MOVES: [16, 15, 14, 13]\n",
      "player: 1, scale value: -100, move: 11, PLAYER_MOVES: [1, 2, 3, 4, 5]\n",
      "player: 2, scale value: 0, move: 8, PLAYER_MOVES: [16, 15, 14, 13, 12]\n",
      "player: 1, scale value: 0, move: 6, PLAYER_MOVES: [1, 2, 3, 4, 5, 11]\n",
      "player: 2, scale value: 0, move: 10, PLAYER_MOVES: [16, 15, 14, 13, 12, 8]\n",
      "player: 1, scale value: 0, move: 7, PLAYER_MOVES: [1, 2, 3, 4, 5, 11, 6]\n",
      "player: 2, scale value: 0, move: 9, PLAYER_MOVES: [16, 15, 14, 13, 12, 8, 10]\n",
      "Draw\n"
     ]
    }
   ],
   "source": [
    "two_computers_game(4, [4,4], p=True)"
   ],
   "metadata": {
    "collapsed": false
   }
  },
  {
   "cell_type": "markdown",
   "source": [
    "| First Computer Depth | Second Computer Depth | Result     |\n",
    "|----------------------|-----------------------|------------|\n",
    "| 1                    | 1                     | Computer 2 |\n",
    "| 2                    | 1                     | Computer 1 |\n",
    "| 3                    | 1                     | Computer 1 |\n",
    "| 4                    | 1                     | Computer 1 |\n",
    "| 1                    | 2                     | Computer 1 |\n",
    "| 2                    | 2                     | Draw       |\n",
    "| 3                    | 2                     | Computer 1 |\n",
    "| 4                    | 2                     | Computer 1 |\n",
    "| 1                    | 3                     | Computer 2 |\n",
    "| 2                    | 3                     | Computer 1 |\n",
    "| 3                    | 3                     | Computer 2 |\n",
    "| 4                    | 3                     | Computer 1 |\n",
    "| 1                    | 4                     | Computer 2 |\n",
    "| 2                    | 4                     | Draw       |\n",
    "| 3                    | 4                     | Computer 1 |\n",
    "| 4                    | 4                     | Draw       |"
   ],
   "metadata": {
    "collapsed": false
   }
  },
  {
   "cell_type": "markdown",
   "source": [
    "# Gra człowieka z komputerem\n",
    "Program jest zaimplementowany w pliku **lab3.py**."
   ],
   "metadata": {
    "collapsed": false
   }
  },
  {
   "cell_type": "markdown",
   "source": [
    "# Wnioski\n",
    "\n",
    "Analizując powyższe wyniki, można wywnioskować, że od tego, kto zwycięży, zależy głębokość przeszukiwania. Z im wyższą głębokością mamy do czynienia, tym większe jest prawdopodobieństwo, że bieżący gracz zwycięży, jednakże są przypadki, kiedy wygrywał komputer, który miał mniejszą głębokość. Zauważyłem też, że gracz, który zaczyna pierwszy posiada przewagę nad drugim graczem. Dobrze to widać, kiedy podajemy te same głębokości dla obu komputerów, gdzie dla większości przypadków zwycięży pierwszy gracz.\n",
    "Dobierając głębokość, trzeba uważać na jej wartość, ponieważ im większa jest ta wartość, tym wolniej działa algorytm, ale daje zdecydowanie lepszy wynik."
   ],
   "metadata": {
    "collapsed": false
   }
  },
  {
   "cell_type": "code",
   "execution_count": 22,
   "outputs": [],
   "source": [],
   "metadata": {
    "collapsed": false
   }
  }
 ],
 "metadata": {
  "kernelspec": {
   "display_name": "Python 3",
   "language": "python",
   "name": "python3"
  },
  "language_info": {
   "codemirror_mode": {
    "name": "ipython",
    "version": 2
   },
   "file_extension": ".py",
   "mimetype": "text/x-python",
   "name": "python",
   "nbconvert_exporter": "python",
   "pygments_lexer": "ipython2",
   "version": "2.7.6"
  }
 },
 "nbformat": 4,
 "nbformat_minor": 0
}
