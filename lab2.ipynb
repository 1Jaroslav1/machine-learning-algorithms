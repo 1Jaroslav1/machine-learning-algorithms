{
 "cells": [
  {
   "cell_type": "markdown",
   "source": [
    "# WSI - ćwiczenie 2\n",
    "## Algorytmy ewolucyjne i genetyczne\n",
    "## Yaroslav Harbar"
   ],
   "metadata": {
    "collapsed": false
   }
  },
  {
   "cell_type": "markdown",
   "source": [
    "Głównym celem tego ćwiczenia było zaimplementować algorytm genetyczny z selekcją ruletkową, krzyżowaniem jednopunktowym oraz sukcesją generacyjną. Następnie trzeba było zbadać działanie tego algorytmu na problemie z wyląndowaniem rakiety.\n",
    "Dla rozwiązania tego zadania stworzyłem dwie klasy. Pierwsza klasa **RocketTest** odpowiada za symulację lądowania rakiety oraz obliczenie zysku tej symulacji. Natomiast druga klasa **GeneticAlgorithm** ma zaimplementowany w sobie algorytm ewolucyjny na podstawie którego szukana jest najlepsza symulacja, która dla obliczenia zysku pojedynczej iteracji korzysta z metody *population_test*, która jest zaimplementowana w klasie **RocketTest**.\n"
   ],
   "metadata": {
    "collapsed": false
   }
  },
  {
   "cell_type": "code",
   "execution_count": 28,
   "outputs": [],
   "source": [
    "import numpy as np\n",
    "\n",
    "class RocketTest:\n",
    "    def __init__(self, start_height, rocket_weight, start_speed, acceleration):\n",
    "        self.start_height = start_height\n",
    "        self.rocket_weight = rocket_weight\n",
    "        self.start_speed = start_speed\n",
    "        self.acceleration = acceleration\n",
    "\n",
    "    def check_rocket_state(self, height):\n",
    "        if height < 2:\n",
    "            return True\n",
    "        return False\n",
    "\n",
    "\n",
    "    def simulate_individual(self, individual):\n",
    "        height = self.start_height\n",
    "        weight = self.rocket_weight\n",
    "        speed = self.start_speed\n",
    "\n",
    "        #Add weight of fuel\n",
    "        fuel = sum(individual)\n",
    "        weight += fuel\n",
    "\n",
    "        for gene in individual:\n",
    "            if gene:\n",
    "                weight -= 1\n",
    "                speed += (45/weight)\n",
    "\n",
    "            speed += self.acceleration\n",
    "            height += speed\n",
    "\n",
    "            if 0 <= height < 2 and abs(speed) < 2:\n",
    "                return 2000 - fuel\n",
    "            elif height < 0:\n",
    "                return -1000 - fuel\n",
    "\n",
    "        return -fuel\n",
    "\n",
    "    def population_test(self, population):\n",
    "        test_result = []\n",
    "        const = 2000\n",
    "\n",
    "        for individual in population:\n",
    "            result = self.simulate_individual(individual)\n",
    "\n",
    "            test_result.append(result + const)\n",
    "\n",
    "        return test_result"
   ],
   "metadata": {
    "collapsed": false
   }
  },
  {
   "cell_type": "code",
   "execution_count": 21,
   "outputs": [],
   "source": [
    "class GeneticAlgorithm:\n",
    "    def __init__(self, q, population, p_c, p_m, population_size):\n",
    "        self.population = population\n",
    "        self.p_c =p_c\n",
    "        self.p_m = p_m\n",
    "        self.test = q\n",
    "        self.population_size = population_size\n",
    "\n",
    "    def get_parameters(self):\n",
    "        return (\n",
    "            self.population,\n",
    "            self.p_c,\n",
    "            self.p_m,\n",
    "            self.test,\n",
    "            self.population_size\n",
    "        )\n",
    "\n",
    "    def find_the_best_individual(self, test_result):\n",
    "        best_result_index = test_result.index(max(test_result))\n",
    "        best_result = test_result[best_result_index]\n",
    "        best_individual = self.population[best_result_index]\n",
    "\n",
    "        return best_individual, best_result\n",
    "\n",
    "    def roulette_selection(self, temp_population, test_result, population_size):\n",
    "        summary = sum(test_result)\n",
    "        test_result = [result / summary for result in test_result]\n",
    "\n",
    "        index_list = [i for i in range(len(temp_population))]\n",
    "\n",
    "        s = np.random.choice(index_list, population_size, replace=True, p=test_result)\n",
    "\n",
    "        selection_arr = [temp_population[index] for index in s]\n",
    "\n",
    "        return selection_arr\n",
    "\n",
    "    def crossover(self, selected_population):\n",
    "        crossover_arr = list()\n",
    "\n",
    "        for i in range(1, len(selected_population), 2):\n",
    "            first_individual = selected_population[i-1]\n",
    "            second_individual = selected_population[i]\n",
    "\n",
    "            if np.random.random_sample() < self.p_c:\n",
    "                index = np.random.randint(1, len(first_individual)-1)\n",
    "\n",
    "                first_individual_1 = first_individual[:index]\n",
    "                first_individual_2 = first_individual[index:]\n",
    "                second_individual_1 = second_individual[:index]\n",
    "                second_individual_2 = second_individual[index:]\n",
    "\n",
    "                first_individual = []\n",
    "                second_individual = []\n",
    "\n",
    "                first_individual.extend(first_individual_1)\n",
    "                first_individual.extend(second_individual_2)\n",
    "\n",
    "                second_individual.extend(second_individual_1)\n",
    "                second_individual.extend(first_individual_2)\n",
    "\n",
    "            crossover_arr.append(first_individual)\n",
    "            crossover_arr.append(second_individual)\n",
    "\n",
    "        return crossover_arr\n",
    "\n",
    "    def mutation(self, crossover_arr):\n",
    "        mutation_arr = list()\n",
    "\n",
    "        for i in range(len(crossover_arr)):\n",
    "            individual = crossover_arr[i]\n",
    "\n",
    "            for j in range(len(individual)):\n",
    "                if np.random.random_sample() < self.p_m:\n",
    "                    individual[j] = 1 if individual[j] == 0 else 0\n",
    "\n",
    "            mutation_arr.append(individual)\n",
    "\n",
    "        return mutation_arr\n",
    "\n",
    "    def solve(self, iterations):\n",
    "        temp_population = self.population\n",
    "\n",
    "        result = self.test.population_test(temp_population)\n",
    "        best_individual, best_result = self.find_the_best_individual(result)\n",
    "\n",
    "        for _ in range(iterations):\n",
    "            selection_arr = self.roulette_selection(temp_population, result, self.population_size)\n",
    "            crossover_arr = self.crossover(selection_arr)\n",
    "            mutation_arr = self.mutation(crossover_arr)\n",
    "\n",
    "            temp_population = mutation_arr\n",
    "\n",
    "            result = self.test.population_test(temp_population)\n",
    "            new_best_individual, new_best_result = self.find_the_best_individual(result)\n",
    "\n",
    "            if new_best_result >= best_result:\n",
    "                best_result = new_best_result\n",
    "                best_individual = new_best_individual\n",
    "\n",
    "        return best_individual, best_result - 2000"
   ],
   "metadata": {
    "collapsed": false
   }
  },
  {
   "cell_type": "markdown",
   "source": [
    "## Ustawienia dla algorytmu genetycznego\n",
    "\n",
    "Założyłem, że jeden osobnik będzie miał 200 genów i każdy gen odpowiada za działanie silnika w chwili *i*, gdzie 0 - silnik wyłączony, 1 - silnik włączony\n",
    "\n",
    "Dla bardziej wygodnego badania wpływu hiperparametrów na działanie algorytmu i przeprowadzenia symulacji stworzyłem klasę **Simulation**. W środku tej klasy jest metoda simulation, która w każdej symulacji szuka najlepszego osobnika i wyświetla jego rezultat. Na koniec działania wyświetlany najlepszy osobnik, jego wynik oraz obliczony średni wynik wszystkich symulacji."
   ],
   "metadata": {
    "collapsed": false
   }
  },
  {
   "cell_type": "code",
   "execution_count": 25,
   "outputs": [],
   "source": [
    "class Simulation:\n",
    "    def __init__(self, rocket_test):\n",
    "        self.rocket_test = rocket_test\n",
    "\n",
    "    def set_rocket_test(self, rocket_test):\n",
    "        self.rocket_test = rocket_test\n",
    "\n",
    "    def create_random_population(self, population_size):\n",
    "        p = []\n",
    "\n",
    "        for _ in range(population_size):\n",
    "            p.append(np.random.randint(2, size=200))\n",
    "\n",
    "        return p\n",
    "\n",
    "    def mean(self, results):\n",
    "        return sum(results) / len(results)\n",
    "\n",
    "    def simulate(self, simulation_count, p_c, p_m, population_size, iterations, enable_print=True):\n",
    "        results = []\n",
    "        individuals_results = []\n",
    "\n",
    "        for i in range(simulation_count):\n",
    "            start_population = self.create_random_population(population_size)\n",
    "\n",
    "            GA = GeneticAlgorithm(self.rocket_test, start_population, p_c, p_m, population_size)\n",
    "\n",
    "            individual_result, result  = GA.solve(iterations)\n",
    "\n",
    "            if enable_print:\n",
    "                print(f\"Simulation {i + 1}: best result - {result}\")\n",
    "\n",
    "            results.append(result)\n",
    "            individuals_results.append(individual_result)\n",
    "\n",
    "        best_result_index = results.index(max(results))\n",
    "        best_result = results[best_result_index]\n",
    "        best_individual = individuals_results[best_result_index]\n",
    "        mean = self.mean(results)\n",
    "\n",
    "        print()\n",
    "        print(f\"Best result: {best_result}\")\n",
    "        print(f\"Mean: {mean}\")\n",
    "        print(f\"Best individual: {best_individual}\")\n"
   ],
   "metadata": {
    "collapsed": false
   }
  },
  {
   "cell_type": "markdown",
   "source": [
    "## Badanie wpływu współczynników krzyżowania i mutacji\n",
    "\n",
    "Stworzyłem object RT (od Rocket Test) nadając mu wysokość 200, masę rakiety 200, początkowa prędkość 0 oraz przyspieszenie -0.09."
   ],
   "metadata": {
    "collapsed": false
   }
  },
  {
   "cell_type": "code",
   "execution_count": 26,
   "outputs": [],
   "source": [
    "RT = RocketTest(start_height=200, rocket_weight=200, start_speed=0, acceleration=-0.09)\n",
    "simulation = Simulation(RT)"
   ],
   "metadata": {
    "collapsed": false
   }
  },
  {
   "cell_type": "markdown",
   "source": [
    "### Zmiana współczynnika krzyżowania przy stałym współczynniku mutacji\n",
    "\n",
    "W kolejnych symulacjach prawdopodobieństwo mutacji dałem 5%, natomiast prawdopodobieństwo mutacji zwiększam, oczekując, że ze wzrostem wartości prawdopodobieństwa będęn  lepszy rezultat."
   ],
   "metadata": {
    "collapsed": false
   }
  },
  {
   "cell_type": "code",
   "execution_count": 13,
   "outputs": [
    {
     "name": "stdout",
     "output_type": "stream",
     "text": [
      "Simulation 1: best result - 1918\n",
      "Simulation 2: best result - 1918\n",
      "Simulation 3: best result - 1918\n",
      "Simulation 4: best result - 1918\n",
      "Simulation 5: best result - 1918\n",
      "Simulation 6: best result - 1921\n",
      "Simulation 7: best result - 1919\n",
      "Simulation 8: best result - 1919\n",
      "Simulation 9: best result - 1915\n",
      "Simulation 10: best result - 1915\n",
      "Simulation 11: best result - 1916\n",
      "Simulation 12: best result - 1917\n",
      "Simulation 13: best result - 1922\n",
      "Simulation 14: best result - 1918\n",
      "Simulation 15: best result - 1920\n",
      "Simulation 16: best result - 1917\n",
      "Simulation 17: best result - 1920\n",
      "Simulation 18: best result - 1918\n",
      "Simulation 19: best result - 1917\n",
      "Simulation 20: best result - 1919\n",
      "Simulation 21: best result - 1919\n",
      "Simulation 22: best result - 1919\n",
      "Simulation 23: best result - 1922\n",
      "Simulation 24: best result - 1918\n",
      "Simulation 25: best result - 1917\n",
      "\n",
      "Best result: 1922\n",
      "Mean: 1918.32\n",
      "Best individual: [0 0 0 0 1 0 0 1 1 0 0 0 0 0 1 1 0 1 1 0 0 0 1 1 0 0 0 0 0 0 0 0 0 1 0 0 1\n",
      " 0 1 0 0 1 1 1 0 0 1 0 0 0 0 1 1 1 1 1 0 1 0 0 1 0 0 1 0 0 1 0 0 1 0 1 1 0\n",
      " 0 1 0 1 0 0 0 0 1 0 0 1 0 0 0 0 1 1 1 1 1 1 0 1 1 1 1 1 0 1 1 0 0 1 0 0 1\n",
      " 1 0 1 1 1 0 1 1 1 0 0 0 0 1 0 1 0 1 0 0 0 1 0 0 0 0 1 0 1 0 0 0 1 0 0 0 0\n",
      " 0 0 0 1 0 0 0 1 0 0 0 0 0 1 0 0 0 1 0 1 0 1 0 0 0 0 1 0 1 0 0 0 0 0 1 1 0\n",
      " 1 0 1 1 0 0 0 0 0 1 0 1 0 1 1]\n"
     ]
    }
   ],
   "source": [
    "simulation.simulate(simulation_count=25, p_c=0.01, p_m=0.05, population_size=200, iterations=100)"
   ],
   "metadata": {
    "collapsed": false
   }
  },
  {
   "cell_type": "code",
   "execution_count": 14,
   "outputs": [
    {
     "name": "stdout",
     "output_type": "stream",
     "text": [
      "Simulation 1: best result - 1925\n",
      "Simulation 2: best result - 1918\n",
      "Simulation 3: best result - 1920\n",
      "Simulation 4: best result - 1920\n",
      "Simulation 5: best result - 1924\n",
      "Simulation 6: best result - 1927\n",
      "Simulation 7: best result - 1920\n",
      "Simulation 8: best result - 1920\n",
      "Simulation 9: best result - 1918\n",
      "Simulation 10: best result - 1921\n",
      "Simulation 11: best result - 1920\n",
      "Simulation 12: best result - 1924\n",
      "Simulation 13: best result - 1925\n",
      "Simulation 14: best result - 1918\n",
      "Simulation 15: best result - 1922\n",
      "Simulation 16: best result - 1919\n",
      "Simulation 17: best result - 1919\n",
      "Simulation 18: best result - 1920\n",
      "Simulation 19: best result - 1920\n",
      "Simulation 20: best result - 1920\n",
      "Simulation 21: best result - 1922\n",
      "Simulation 22: best result - 1920\n",
      "Simulation 23: best result - 1920\n",
      "Simulation 24: best result - 1919\n",
      "Simulation 25: best result - 1919\n",
      "\n",
      "Best result: 1927\n",
      "Mean: 1920.8\n",
      "Best individual: [1 1 1 0 1 0 0 1 0 1 1 1 1 0 0 0 0 0 0 1 0 1 1 1 1 1 0 0 1 0 1 0 0 1 1 1 0\n",
      " 1 0 1 0 0 0 1 0 0 0 1 1 1 1 0 1 0 1 1 0 1 1 0 0 0 1 0 0 1 0 1 1 0 1 0 1 1\n",
      " 1 0 0 0 1 1 1 1 1 0 0 1 0 1 0 1 1 0 1 0 1 0 1 1 1 0 0 1 0 0 1 1 0 0 1 0 0\n",
      " 1 0 1 0 0 0 1 0 0 1 1 0 0 0 1 0 1 0 1 0 1 1 0 1 1 1 0 1 1 1 0 0 0 1 0 0 1\n",
      " 1 1 0 0 0 0 0 1 0 1 0 1 0 0 0 1 1 1 0 0 0 0 0 0 1 1 0 1 1 1 0 1 1 1 1 0 1\n",
      " 0 1 0 1 0 0 1 1 0 0 0 1 1 1 1]\n"
     ]
    }
   ],
   "source": [
    "simulation.simulate(simulation_count=25, p_c=0.1, p_m=0.05, population_size=200, iterations=100)"
   ],
   "metadata": {
    "collapsed": false
   }
  },
  {
   "cell_type": "code",
   "execution_count": 6,
   "outputs": [
    {
     "name": "stdout",
     "output_type": "stream",
     "text": [
      "Simulation 1: best result - 1923\n",
      "Simulation 2: best result - 1922\n",
      "Simulation 3: best result - 1922\n",
      "Simulation 4: best result - 1923\n",
      "Simulation 5: best result - 1922\n",
      "Simulation 6: best result - 1920\n",
      "Simulation 7: best result - 1920\n",
      "Simulation 8: best result - 1924\n",
      "Simulation 9: best result - 1922\n",
      "Simulation 10: best result - 1921\n",
      "Simulation 11: best result - 1921\n",
      "Simulation 12: best result - 1922\n",
      "Simulation 13: best result - 1923\n",
      "Simulation 14: best result - 1923\n",
      "Simulation 15: best result - 1922\n",
      "Simulation 16: best result - 1924\n",
      "Simulation 17: best result - 1923\n",
      "Simulation 18: best result - 1926\n",
      "Simulation 19: best result - 1920\n",
      "Simulation 20: best result - 1923\n",
      "Simulation 21: best result - 1922\n",
      "Simulation 22: best result - 1924\n",
      "Simulation 23: best result - 1923\n",
      "Simulation 24: best result - 1923\n",
      "Simulation 25: best result - 1922\n",
      "\n",
      "Best result: 1926\n",
      "Mean: 1922.4\n",
      "Best individual: [1 0 1 0 1 0 0 1 0 0 0 0 0 0 0 1 0 1 0 0 0 1 1 0 0 1 1 0 1 0 0 0 1 0 1 0 0\n",
      " 1 1 0 1 0 0 1 1 0 0 0 0 0 1 1 0 0 1 0 0 0 1 1 0 0 0 1 0 0 1 1 1 1 0 0 1 1\n",
      " 1 1 0 0 0 1 1 1 0 0 1 0 1 0 1 0 0 1 1 1 1 1 0 1 1 1 0 0 0 1 0 1 0 1 0 1 0\n",
      " 0 1 1 0 0 0 0 0 0 1 0 1 0 1 0 0 1 0 0 0 1 1 1 0 1 0 0 1 1 0 0 0 1 1 1 0 1\n",
      " 0 1 0 1 0 1 1 0 0 0 1 1 0 0 0 0 1 0 0 1 0 1 1 1 1 1 1 0 0 1 0 1 0 1 1 1 0\n",
      " 1 0 1 0 1 1 1 1 0 0 0 0 1 1 1]\n"
     ]
    }
   ],
   "source": [
    "simulation.simulate(simulation_count=25, p_c=0.5, p_m=0.05, population_size=200, iterations=100)"
   ],
   "metadata": {
    "collapsed": false
   }
  },
  {
   "cell_type": "code",
   "execution_count": 7,
   "outputs": [
    {
     "name": "stdout",
     "output_type": "stream",
     "text": [
      "Simulation 1: best result - 1924\n",
      "Simulation 2: best result - 1923\n",
      "Simulation 3: best result - 1922\n",
      "Simulation 4: best result - 1924\n",
      "Simulation 5: best result - 1926\n",
      "Simulation 6: best result - 1925\n",
      "Simulation 7: best result - 1925\n",
      "Simulation 8: best result - 1922\n",
      "Simulation 9: best result - 1922\n",
      "Simulation 10: best result - 1921\n",
      "Simulation 11: best result - 1925\n",
      "Simulation 12: best result - 1923\n",
      "Simulation 13: best result - 1924\n",
      "Simulation 14: best result - 1923\n",
      "Simulation 15: best result - 1922\n",
      "Simulation 16: best result - 1923\n",
      "Simulation 17: best result - 1926\n",
      "Simulation 18: best result - 1922\n",
      "Simulation 19: best result - 1922\n",
      "Simulation 20: best result - 1926\n",
      "Simulation 21: best result - 1922\n",
      "Simulation 22: best result - 1923\n",
      "Simulation 23: best result - 1922\n",
      "Simulation 24: best result - 1924\n",
      "Simulation 25: best result - 1923\n",
      "\n",
      "Best result: 1926\n",
      "Mean: 1923.36\n",
      "Best individual: [1 0 1 0 1 0 1 1 1 0 0 1 1 1 1 1 0 1 1 0 0 1 1 1 0 0 1 1 0 0 0 1 0 1 1 1 0\n",
      " 1 0 0 1 0 1 1 1 0 0 0 1 0 0 1 1 0 1 0 1 1 1 0 1 1 0 1 1 1 1 0 0 1 0 1 1 0\n",
      " 0 1 1 0 1 1 1 0 0 1 1 1 0 1 0 1 0 0 1 0 0 1 0 0 0 1 1 0 1 1 1 1 0 0 0 0 1\n",
      " 1 0 1 1 0 0 1 0 0 1 0 1 0 1 0 0 1 0 1 0 0 1 1 0 0 1 1 1 0 1 1 1 1 1 0 1 1\n",
      " 1 1 1 1 1 1 1 1 0 0 0 0 0 1 0 0 0 1 0 1 0 1 0 0 0 1 0 1 0 1 1 0 1 0 1 1 1\n",
      " 0 0 0 1 1 0 0 0 1 1 0 0 1 1 1]\n"
     ]
    }
   ],
   "source": [
    "simulation.simulate(simulation_count=25, p_c=0.7, p_m=0.05, population_size=200, iterations=100)"
   ],
   "metadata": {
    "collapsed": false
   }
  },
  {
   "cell_type": "code",
   "execution_count": 8,
   "outputs": [
    {
     "name": "stdout",
     "output_type": "stream",
     "text": [
      "Simulation 1: best result - 1922\n",
      "Simulation 2: best result - 1925\n",
      "Simulation 3: best result - 1926\n",
      "Simulation 4: best result - 1922\n",
      "Simulation 5: best result - 1924\n",
      "Simulation 6: best result - 1922\n",
      "Simulation 7: best result - 1925\n",
      "Simulation 8: best result - 1925\n",
      "Simulation 9: best result - 1924\n",
      "Simulation 10: best result - 1923\n",
      "Simulation 11: best result - 1922\n",
      "Simulation 12: best result - 1923\n",
      "Simulation 13: best result - 1921\n",
      "Simulation 14: best result - 1925\n",
      "Simulation 15: best result - 1924\n",
      "Simulation 16: best result - 1922\n",
      "Simulation 17: best result - 1923\n",
      "Simulation 18: best result - 1924\n",
      "Simulation 19: best result - 1924\n",
      "Simulation 20: best result - 1926\n",
      "Simulation 21: best result - 1925\n",
      "Simulation 22: best result - 1924\n",
      "Simulation 23: best result - 1923\n",
      "Simulation 24: best result - 1924\n",
      "Simulation 25: best result - 1923\n",
      "\n",
      "Best result: 1926\n",
      "Mean: 1923.64\n",
      "Best individual: [1 1 0 0 0 0 0 1 0 0 0 0 0 1 0 0 1 0 0 1 0 1 1 1 0 1 0 0 0 0 0 0 1 1 0 1 1\n",
      " 0 0 1 1 0 0 1 0 1 0 1 0 0 1 0 0 0 1 1 1 0 0 0 0 0 1 1 0 1 0 0 0 0 1 1 0 1\n",
      " 0 1 1 0 1 0 0 1 0 0 1 1 1 1 0 1 0 1 1 0 1 1 0 0 0 1 1 1 1 0 1 0 1 1 1 1 1\n",
      " 0 0 1 0 1 0 1 0 0 0 1 0 0 0 1 1 1 1 0 1 0 1 1 1 0 0 0 0 0 1 1 0 0 1 1 1 1\n",
      " 0 1 0 1 0 1 0 1 0 1 1 0 0 0 1 1 1 0 0 0 1 0 0 1 0 0 0 1 1 1 1 1 1 1 1 0 1\n",
      " 0 0 0 1 0 0 1 0 1 1 0 1 1 0 1]\n"
     ]
    }
   ],
   "source": [
    "simulation.simulate(simulation_count=25, p_c=1, p_m=0.05, population_size=200, iterations=100)"
   ],
   "metadata": {
    "collapsed": false
   }
  },
  {
   "cell_type": "markdown",
   "source": [
    "Jak widać przy wzroście prawdopodobieństwa krzyżowania otrzymany średni wynik jest coraz lepszy. W kolejnych eksperymentach będę korzystać z prawdopodobieństwa krzyżowania równym 50%."
   ],
   "metadata": {
    "collapsed": false
   }
  },
  {
   "cell_type": "markdown",
   "source": [
    "### Zmiana współczynnika mutacji przy stałym współczynniku krzyżowania\n",
    "\n",
    "W tym przypadku prawdopodobieństwo krzyżowania dałem 50%, biorąc pod uwagę poprzedni eksperyment. Prawdopodobieństwo mutacji będę zwiększać, oczekując, że przy wzroście tej wartości wynik będzie coraz gorszy, a średnia z eksperymentu będzie spadała."
   ],
   "metadata": {
    "collapsed": false
   }
  },
  {
   "cell_type": "code",
   "execution_count": 10,
   "outputs": [
    {
     "name": "stdout",
     "output_type": "stream",
     "text": [
      "Simulation 1: best result - 1924\n",
      "Simulation 2: best result - 1921\n",
      "Simulation 3: best result - 1922\n",
      "Simulation 4: best result - 1922\n",
      "Simulation 5: best result - 1922\n",
      "Simulation 6: best result - 1921\n",
      "Simulation 7: best result - 1921\n",
      "Simulation 8: best result - 1920\n",
      "Simulation 9: best result - 1925\n",
      "Simulation 10: best result - 1921\n",
      "Simulation 11: best result - 1922\n",
      "Simulation 12: best result - 1922\n",
      "Simulation 13: best result - 1922\n",
      "Simulation 14: best result - 1923\n",
      "Simulation 15: best result - 1923\n",
      "Simulation 16: best result - 1922\n",
      "Simulation 17: best result - 1923\n",
      "Simulation 18: best result - 1922\n",
      "Simulation 19: best result - 1920\n",
      "Simulation 20: best result - 1922\n",
      "Simulation 21: best result - 1920\n",
      "Simulation 22: best result - 1921\n",
      "Simulation 23: best result - 1924\n",
      "Simulation 24: best result - 1922\n",
      "Simulation 25: best result - 1922\n",
      "\n",
      "Best result: 1925\n",
      "Mean: 1921.96\n",
      "Best individual: [0 1 1 0 0 1 0 0 1 0 0 0 0 0 0 1 0 1 1 0 1 0 0 0 0 0 0 0 0 1 1 1 0 1 1 1 0\n",
      " 1 1 0 1 1 1 0 1 1 1 0 0 1 0 0 1 1 1 0 1 0 0 0 0 0 0 1 0 1 0 1 0 1 0 1 0 1\n",
      " 1 1 1 1 1 1 1 0 1 0 1 1 0 1 0 1 0 1 0 1 1 1 1 0 0 0 0 1 0 0 1 1 1 1 1 1 1\n",
      " 0 1 0 1 0 1 0 0 0 0 0 1 0 1 0 1 0 1 1 1 0 1 1 1 0 1 0 0 1 0 0 1 1 1 1 0 0\n",
      " 0 1 1 1 0 0 0 0 0 0 1 1 0 0 0 1 0 1 1 1 1 1 1 1 1 1 0 1 0 0 1 1 1 1 1 1 0\n",
      " 0 0 0 0 1 0 0 1 0 0 1 1 0 1 0]\n"
     ]
    }
   ],
   "source": [
    "simulation.simulate(simulation_count=25, p_c=0.5, p_m=0.01, population_size=200, iterations=100)"
   ],
   "metadata": {
    "collapsed": false
   }
  },
  {
   "cell_type": "code",
   "execution_count": 8,
   "outputs": [
    {
     "name": "stdout",
     "output_type": "stream",
     "text": [
      "Simulation 1: best result - 1924\n",
      "Simulation 2: best result - 1922\n",
      "Simulation 3: best result - 1923\n",
      "Simulation 4: best result - 1923\n",
      "Simulation 5: best result - 1922\n",
      "Simulation 6: best result - 1922\n",
      "Simulation 7: best result - 1920\n",
      "Simulation 8: best result - 1924\n",
      "Simulation 9: best result - 1923\n",
      "Simulation 10: best result - 1926\n",
      "Simulation 11: best result - 1922\n",
      "Simulation 12: best result - 1923\n",
      "Simulation 13: best result - 1922\n",
      "Simulation 14: best result - 1923\n",
      "Simulation 15: best result - 1922\n",
      "Simulation 16: best result - 1921\n",
      "Simulation 17: best result - 1921\n",
      "Simulation 18: best result - 1922\n",
      "Simulation 19: best result - 1922\n",
      "Simulation 20: best result - 1921\n",
      "Simulation 21: best result - 1921\n",
      "Simulation 22: best result - 1922\n",
      "Simulation 23: best result - 1923\n",
      "Simulation 24: best result - 1921\n",
      "Simulation 25: best result - 1922\n",
      "\n",
      "Best result: 1926\n",
      "Mean: 1922.28\n",
      "Best individual: [0 1 1 0 1 0 0 0 0 1 0 1 0 0 0 1 1 1 1 1 1 1 1 0 0 1 0 0 0 0 0 1 0 1 1 0 1\n",
      " 1 1 0 1 0 1 1 0 0 1 0 0 0 1 0 1 0 0 0 1 0 0 0 0 1 1 1 0 1 1 0 0 0 1 0 1 0\n",
      " 1 0 1 1 0 1 1 0 1 1 0 0 1 1 0 0 1 0 1 1 0 0 0 0 0 0 1 1 0 0 0 0 0 1 0 0 0\n",
      " 0 1 1 1 1 1 1 1 1 1 0 1 0 0 0 1 0 1 1 0 0 1 1 1 1 0 1 0 0 1 0 0 1 1 0 1 0\n",
      " 1 0 1 1 1 1 0 0 0 1 0 0 1 1 0 1 1 0 0 1 1 1 1 1 1 0 0 1 0 1 1 1 1 1 0 0 1\n",
      " 1 0 0 0 1 0 0 1 0 0 1 0 0 1 1]\n"
     ]
    }
   ],
   "source": [
    "simulation.simulate(simulation_count=25, p_c=0.5, p_m=0.05, population_size=200, iterations=100)"
   ],
   "metadata": {
    "collapsed": false
   }
  },
  {
   "cell_type": "code",
   "execution_count": 11,
   "outputs": [
    {
     "name": "stdout",
     "output_type": "stream",
     "text": [
      "Simulation 1: best result - 1923\n",
      "Simulation 2: best result - 1923\n",
      "Simulation 3: best result - 1922\n",
      "Simulation 4: best result - 1923\n",
      "Simulation 5: best result - 1922\n",
      "Simulation 6: best result - 1921\n",
      "Simulation 7: best result - 1922\n",
      "Simulation 8: best result - 1922\n",
      "Simulation 9: best result - 1921\n",
      "Simulation 10: best result - 1921\n",
      "Simulation 11: best result - 1920\n",
      "Simulation 12: best result - 1920\n",
      "Simulation 13: best result - 1919\n",
      "Simulation 14: best result - 1923\n",
      "Simulation 15: best result - 1920\n",
      "Simulation 16: best result - 1923\n",
      "Simulation 17: best result - 1921\n",
      "Simulation 18: best result - 1923\n",
      "Simulation 19: best result - 1923\n",
      "Simulation 20: best result - 1922\n",
      "Simulation 21: best result - 1922\n",
      "Simulation 22: best result - 1922\n",
      "Simulation 23: best result - 1922\n",
      "Simulation 24: best result - 1921\n",
      "Simulation 25: best result - 1921\n",
      "\n",
      "Best result: 1923\n",
      "Mean: 1921.68\n",
      "Best individual: [1 1 0 0 0 1 0 1 1 1 0 0 0 1 1 1 0 0 0 0 1 0 0 1 1 0 0 0 1 0 0 1 1 0 0 1 0\n",
      " 1 0 0 1 1 0 1 1 0 1 1 0 1 1 0 0 1 1 1 0 1 0 1 0 0 0 1 1 0 0 0 1 0 0 0 0 1\n",
      " 0 1 1 1 1 1 0 0 0 0 1 1 0 0 1 1 0 0 1 1 0 0 1 1 1 1 0 1 0 1 0 0 0 0 1 0 0\n",
      " 1 1 1 0 1 1 0 1 0 0 0 0 0 0 1 1 0 0 1 1 0 1 1 0 1 1 1 1 0 1 0 1 0 1 0 0 1\n",
      " 0 0 0 0 0 1 1 1 1 0 1 0 1 0 1 1 0 1 1 0 0 0 0 1 0 0 0 1 0 1 1 0 1 0 0 0 1\n",
      " 0 1 0 1 1 1 1 0 1 0 1 1 1 1 1]\n"
     ]
    }
   ],
   "source": [
    "simulation.simulate(simulation_count=25, p_c=0.5, p_m=0.1, population_size=200, iterations=100)"
   ],
   "metadata": {
    "collapsed": false
   }
  },
  {
   "cell_type": "code",
   "execution_count": 12,
   "outputs": [
    {
     "name": "stdout",
     "output_type": "stream",
     "text": [
      "Simulation 1: best result - 1922\n",
      "Simulation 2: best result - 1921\n",
      "Simulation 3: best result - 1921\n",
      "Simulation 4: best result - 1924\n",
      "Simulation 5: best result - 1922\n",
      "Simulation 6: best result - 1925\n",
      "Simulation 7: best result - 1922\n",
      "Simulation 8: best result - 1921\n",
      "Simulation 9: best result - 1923\n",
      "Simulation 10: best result - 1923\n",
      "Simulation 11: best result - 1921\n",
      "Simulation 12: best result - 1921\n",
      "Simulation 13: best result - 1921\n",
      "Simulation 14: best result - 1923\n",
      "Simulation 15: best result - 1920\n",
      "Simulation 16: best result - 1923\n",
      "Simulation 17: best result - 1921\n",
      "Simulation 18: best result - 1922\n",
      "Simulation 19: best result - 1920\n",
      "Simulation 20: best result - 1919\n",
      "Simulation 21: best result - 1921\n",
      "Simulation 22: best result - 1922\n",
      "Simulation 23: best result - 1925\n",
      "Simulation 24: best result - 1922\n",
      "Simulation 25: best result - 1921\n",
      "\n",
      "Best result: 1925\n",
      "Mean: 1921.84\n",
      "Best individual: [0 1 1 0 1 1 0 0 0 1 1 1 0 0 1 0 1 1 0 0 1 0 1 0 0 1 1 1 1 1 0 0 1 1 0 1 1\n",
      " 0 1 1 0 0 1 1 1 0 1 0 0 0 0 1 0 0 1 0 0 0 1 0 0 0 1 0 0 1 1 1 1 0 0 0 1 0\n",
      " 1 1 1 0 1 0 0 0 0 1 1 1 1 1 1 1 0 0 1 0 0 0 0 0 0 1 0 0 1 0 0 0 1 0 0 1 0\n",
      " 1 1 1 0 0 1 1 1 1 0 1 0 0 0 0 0 1 1 0 1 1 1 0 1 0 0 1 0 0 0 0 0 0 1 1 0 0\n",
      " 0 0 1 1 1 1 1 0 0 1 1 0 0 0 1 0 1 0 0 1 0 0 0 1 1 1 1 1 0 0 0 1 0 0 1 1 0\n",
      " 1 0 0 0 0 0 0 0 0 1 0 1 0 1 1]\n"
     ]
    }
   ],
   "source": [
    "simulation.simulate(simulation_count=25, p_c=0.5, p_m=0.5, population_size=200, iterations=100)"
   ],
   "metadata": {
    "collapsed": false
   }
  },
  {
   "cell_type": "code",
   "execution_count": 13,
   "outputs": [
    {
     "name": "stdout",
     "output_type": "stream",
     "text": [
      "Simulation 1: best result - 1921\n",
      "Simulation 2: best result - 1921\n",
      "Simulation 3: best result - 1917\n",
      "Simulation 4: best result - 1919\n",
      "Simulation 5: best result - 1917\n",
      "Simulation 6: best result - 1919\n",
      "Simulation 7: best result - 1919\n",
      "Simulation 8: best result - 1919\n",
      "Simulation 9: best result - 1919\n",
      "Simulation 10: best result - 1918\n",
      "Simulation 11: best result - 1921\n",
      "Simulation 12: best result - 1918\n",
      "Simulation 13: best result - 1922\n",
      "Simulation 14: best result - 1922\n",
      "Simulation 15: best result - 1919\n",
      "Simulation 16: best result - 1922\n",
      "Simulation 17: best result - 1921\n",
      "Simulation 18: best result - 1918\n",
      "Simulation 19: best result - 1920\n",
      "Simulation 20: best result - 1920\n",
      "Simulation 21: best result - 1923\n",
      "Simulation 22: best result - 1919\n",
      "Simulation 23: best result - 1922\n",
      "Simulation 24: best result - 1919\n",
      "Simulation 25: best result - 1918\n",
      "\n",
      "Best result: 1923\n",
      "Mean: 1919.72\n",
      "Best individual: [0 0 1 0 0 1 0 0 1 1 0 1 0 1 1 1 0 0 0 1 1 0 0 0 1 0 1 0 0 1 0 1 1 0 1 0 1\n",
      " 0 0 0 0 0 0 0 0 1 1 1 0 0 0 0 0 0 1 0 1 1 0 0 1 0 0 1 1 1 1 1 0 0 1 0 1 0\n",
      " 1 1 0 1 1 1 0 0 1 0 1 1 1 0 0 0 1 0 1 0 0 1 0 0 0 0 0 0 1 1 0 0 1 0 1 1 0\n",
      " 0 1 0 1 1 0 0 0 0 0 0 1 0 0 1 1 0 0 1 1 0 0 1 1 0 0 0 1 1 1 1 1 1 1 1 0 0\n",
      " 1 0 0 0 1 0 0 0 1 1 0 0 0 0 0 0 0 1 0 0 1 1 0 1 1 1 1 0 1 0 0 1 1 0 1 0 0\n",
      " 1 0 0 1 1 1 1 1 0 1 0 1 0 0 1]\n"
     ]
    }
   ],
   "source": [
    "simulation.simulate(simulation_count=25, p_c=0.5, p_m=1, population_size=200, iterations=100)"
   ],
   "metadata": {
    "collapsed": false
   }
  },
  {
   "cell_type": "markdown",
   "source": [
    "Analizując powyższe wyniki, możemy zauważyć, że z prawdopodobieństwem mutacji nie jest tak samo, jak z prawdopodobieństwem krzyżowania. Przy zwiększeniu prawdopodobieństwa do 0,05% wynik oraz średnia symulacji rośnie, natomiast już od 0,05% te wartości zaczynają spadać. Dla tego w po dalszych symulacja będę korzystać z prawdopodobieństwa mutacji 0,05%."
   ],
   "metadata": {
    "collapsed": false
   }
  },
  {
   "cell_type": "markdown",
   "source": [
    "## Badanie wpływu wielkości iteracji i populacji\n",
    "\n",
    "\n",
    "Na początku sprawdzam wpływ wielkości iteracji, zwiększając ją wartość."
   ],
   "metadata": {
    "collapsed": false
   }
  },
  {
   "cell_type": "code",
   "execution_count": 14,
   "outputs": [
    {
     "name": "stdout",
     "output_type": "stream",
     "text": [
      "Simulation 1: best result - 1907\n",
      "\n",
      "Best result: 1907\n",
      "Mean: 1907.0\n",
      "Best individual: [0 0 1 0 1 1 1 0 1 0 1 0 0 1 1 1 1 1 1 0 0 1 0 1 1 0 0 1 0 1 0 0 1 0 0 0 0\n",
      " 1 0 1 0 0 0 0 0 0 0 1 0 0 0 1 0 1 0 1 1 0 0 1 0 1 1 0 1 1 0 1 1 1 1 0 0 0\n",
      " 0 1 0 0 1 1 0 1 1 0 1 1 0 1 1 0 1 0 1 1 1 1 0 1 1 0 0 0 1 0 0 1 0 0 0 1 0\n",
      " 0 0 1 0 1 1 0 0 0 1 1 0 0 0 0 1 1 1 0 1 1 0 1 1 1 0 1 1 1 1 1 1 0 1 1 1 1\n",
      " 0 0 0 1 0 1 1 0 0 1 1 0 0 1 0 0 1 1 0 1 0 1 0 0 1 1 0 0 1 1 0 1 1 1 0 1 0\n",
      " 0 0 1 1 1 1 0 0 1 1 0 0 1 0 1]\n"
     ]
    }
   ],
   "source": [
    "simulation.simulate(simulation_count=1, p_c=0.5, p_m=0.05, population_size=10, iterations=1)"
   ],
   "metadata": {
    "collapsed": false
   }
  },
  {
   "cell_type": "code",
   "execution_count": 15,
   "outputs": [
    {
     "name": "stdout",
     "output_type": "stream",
     "text": [
      "Simulation 1: best result - 1915\n",
      "\n",
      "Best result: 1915\n",
      "Mean: 1915.0\n",
      "Best individual: [0 1 0 1 1 0 1 1 0 1 1 0 0 0 0 0 0 0 0 1 0 0 0 0 0 0 0 1 0 0 0 1 1 0 0 1 0\n",
      " 0 1 1 1 0 0 1 1 0 1 1 0 0 0 0 0 1 1 0 1 1 1 0 1 1 0 0 0 0 0 1 1 0 0 0 0 0\n",
      " 1 0 1 1 0 1 1 1 0 0 0 1 0 0 0 0 0 1 0 1 1 0 0 1 1 0 0 0 0 1 0 1 1 0 0 1 1\n",
      " 0 0 1 1 0 0 0 0 1 0 0 0 1 0 0 1 0 0 0 1 0 0 0 1 1 1 1 1 0 1 0 1 1 1 1 1 0\n",
      " 0 0 0 0 0 0 0 1 1 0 0 0 0 1 0 0 0 0 1 1 0 1 0 1 0 1 1 1 1 1 1 0 1 1 1 0 1\n",
      " 0 0 0 1 1 1 1 0 1 1 1 1 0 1 1]\n"
     ]
    }
   ],
   "source": [
    "simulation.simulate(simulation_count=1, p_c=0.5, p_m=0.05, population_size=10, iterations=10)"
   ],
   "metadata": {
    "collapsed": false
   }
  },
  {
   "cell_type": "code",
   "execution_count": 16,
   "outputs": [
    {
     "name": "stdout",
     "output_type": "stream",
     "text": [
      "Simulation 1: best result - 1916\n",
      "\n",
      "Best result: 1916\n",
      "Mean: 1916.0\n",
      "Best individual: [1 1 0 1 0 1 0 1 0 1 1 1 1 1 0 1 0 0 0 0 0 0 0 1 1 0 0 1 0 1 1 1 1 1 0 0 1\n",
      " 1 0 0 0 0 1 0 1 0 0 0 1 0 0 1 1 0 0 1 1 1 0 0 1 1 1 0 1 0 0 0 1 1 1 0 1 0\n",
      " 0 1 1 1 1 0 1 1 0 1 1 1 0 0 1 1 1 0 1 0 0 1 0 0 0 1 1 0 0 0 0 1 1 1 0 1 1\n",
      " 0 1 1 0 1 1 1 0 1 1 0 0 0 0 0 1 0 0 0 0 0 0 0 1 1 1 0 1 0 0 0 0 1 0 0 1 0\n",
      " 1 0 1 0 0 0 0 0 0 0 0 0 0 1 1 0 0 1 0 0 0 1 0 0 1 0 1 1 1 1 0 1 0 0 0 0 1\n",
      " 1 1 1 1 0 1 1 0 0 1 1 0 1 0 0]\n"
     ]
    }
   ],
   "source": [
    "simulation.simulate(simulation_count=1, p_c=0.5, p_m=0.05, population_size=10, iterations=100)"
   ],
   "metadata": {
    "collapsed": false
   }
  },
  {
   "cell_type": "code",
   "execution_count": 17,
   "outputs": [
    {
     "name": "stdout",
     "output_type": "stream",
     "text": [
      "Simulation 1: best result - 1921\n",
      "\n",
      "Best result: 1921\n",
      "Mean: 1921.0\n",
      "Best individual: [1 1 1 0 0 0 1 0 1 0 1 1 1 1 1 1 0 0 1 1 0 1 1 1 1 0 1 0 0 1 1 0 0 1 0 0 0\n",
      " 1 1 0 0 0 1 0 1 0 1 0 1 1 0 1 1 0 1 0 0 0 0 0 1 1 0 1 1 0 0 1 0 1 0 1 1 0\n",
      " 1 0 0 1 0 1 1 0 0 1 0 0 1 1 1 1 0 1 0 0 1 1 1 0 0 0 1 1 0 0 0 1 1 1 0 0 1\n",
      " 0 0 1 0 1 1 1 0 0 1 0 0 1 0 0 1 1 1 1 0 0 0 0 1 0 1 0 1 1 1 0 0 0 1 1 1 0\n",
      " 1 1 1 0 1 1 1 1 1 1 0 1 0 0 0 0 1 1 0 0 0 1 1 1 1 1 1 1 0 1 0 1 0 1 1 1 0\n",
      " 0 1 1 1 1 1 1 1 0 0 1 1 0 0 1]\n"
     ]
    }
   ],
   "source": [
    "simulation.simulate(simulation_count=1, p_c=0.5, p_m=0.05, population_size=10, iterations=1000)"
   ],
   "metadata": {
    "collapsed": false
   }
  },
  {
   "cell_type": "markdown",
   "source": [
    "Jak widać przy wzroście ilości iteracji, wynik jest lepszy.\n",
    "\n",
    "Następnie sprawdzam wpływ wielkości populacji w analogiczny sposób jak po przednio."
   ],
   "metadata": {
    "collapsed": false
   }
  },
  {
   "cell_type": "code",
   "execution_count": 20,
   "outputs": [
    {
     "name": "stdout",
     "output_type": "stream",
     "text": [
      "Simulation 1: best result - 1918\n",
      "\n",
      "Best result: 1918\n",
      "Mean: 1918.0\n",
      "Best individual: [0 1 0 1 0 0 0 1 0 1 1 0 1 0 1 1 1 0 0 0 0 1 0 0 1 1 1 0 0 1 0 0 0 1 0 0 1\n",
      " 1 1 0 0 1 0 1 0 1 1 1 1 1 0 0 1 0 0 1 1 0 1 1 0 0 0 0 0 1 1 0 1 0 1 1 1 0\n",
      " 0 1 1 0 0 1 0 1 1 0 0 0 1 0 1 0 0 1 1 1 1 1 0 1 0 0 1 1 1 1 1 1 1 1 1 0 0\n",
      " 1 0 1 0 0 0 1 1 1 0 1 1 1 1 1 1 1 0 1 1 0 0 0 1 0 0 1 1 1 0 0 1 0 1 0 1 1\n",
      " 1 0 1 1 1 1 1 0 1 0 0 0 1 0 1 1 0 1 0 1 0 0 1 0 0 0 0 0 0 1 0 0 0 0 0 0 1\n",
      " 0 1 0 0 0 1 1 1 1 0 0 0 0 0 0]\n"
     ]
    }
   ],
   "source": [
    "simulation.simulate(simulation_count=1, p_c=0.5, p_m=0.05, population_size=10, iterations=100)"
   ],
   "metadata": {
    "collapsed": false
   }
  },
  {
   "cell_type": "code",
   "execution_count": 21,
   "outputs": [
    {
     "name": "stdout",
     "output_type": "stream",
     "text": [
      "Simulation 1: best result - 1921\n",
      "\n",
      "Best result: 1921\n",
      "Mean: 1921.0\n",
      "Best individual: [1 1 1 1 1 1 0 1 0 1 0 1 1 0 1 0 0 1 1 1 0 0 1 0 1 0 0 0 1 0 1 1 0 0 0 1 0\n",
      " 0 1 0 0 0 1 0 0 0 0 1 0 0 1 0 1 0 0 1 0 1 0 0 0 0 0 1 1 1 1 0 1 1 0 0 0 1\n",
      " 0 0 0 0 0 0 1 1 0 1 1 1 1 1 1 1 1 0 1 1 1 0 0 0 1 1 1 1 0 1 1 1 1 0 0 1 0\n",
      " 1 0 1 1 1 1 0 0 0 0 0 0 1 1 1 1 1 0 1 0 1 0 0 0 1 1 0 1 1 0 0 1 1 1 1 1 0\n",
      " 1 0 0 1 1 1 0 1 1 0 1 1 0 1 0 1 0 1 0 0 1 1 0 1 1 1 0 1 0 1 1 1 1 1 0 1 1\n",
      " 1 1 0 1 1 1 1 0 0 1 1 0 1 1 0]\n"
     ]
    }
   ],
   "source": [
    "simulation.simulate(simulation_count=1, p_c=0.5, p_m=0.05, population_size=100, iterations=100)"
   ],
   "metadata": {
    "collapsed": false
   }
  },
  {
   "cell_type": "code",
   "execution_count": 22,
   "outputs": [
    {
     "name": "stdout",
     "output_type": "stream",
     "text": [
      "Simulation 1: best result - 1923\n",
      "\n",
      "Best result: 1923\n",
      "Mean: 1923.0\n",
      "Best individual: [1 0 0 0 0 0 1 1 0 1 0 0 1 1 1 0 1 0 0 1 0 1 0 1 1 0 1 0 0 1 1 0 1 0 0 1 0\n",
      " 0 1 1 1 0 1 1 0 1 0 0 0 0 1 1 1 1 1 1 1 0 0 1 0 0 0 1 1 1 1 0 0 1 1 0 0 1\n",
      " 0 1 1 1 1 1 1 0 1 0 0 1 0 1 1 0 1 1 0 1 0 1 1 0 0 1 0 0 0 0 0 1 1 0 1 0 0\n",
      " 0 1 1 1 0 0 1 1 0 0 0 1 0 0 0 0 0 0 1 0 1 1 1 1 1 0 0 1 0 0 1 0 0 0 0 0 1\n",
      " 0 1 0 0 0 0 0 0 0 1 1 1 1 1 0 0 0 0 1 0 1 1 0 0 1 1 0 1 1 0 1 0 0 0 0 0 0\n",
      " 1 1 0 0 0 0 1 1 1 1 0 1 1 0 0]\n"
     ]
    }
   ],
   "source": [
    "simulation.simulate(simulation_count=1, p_c=0.5, p_m=0.05, population_size=1000, iterations=100)"
   ],
   "metadata": {
    "collapsed": false
   }
  },
  {
   "cell_type": "markdown",
   "source": [
    "Widać, że przy wzroście wielkości populacji algorytm działa lepiej, ponieważ najlepszy rezultat eksperymentu oraz średnia z eksperymentu rośnie."
   ],
   "metadata": {
    "collapsed": false
   }
  },
  {
   "cell_type": "markdown",
   "source": [
    "## Badanie działania algorytmu zmieniają od razu kilka parametrów"
   ],
   "metadata": {
    "collapsed": false
   }
  },
  {
   "cell_type": "markdown",
   "source": [
    "Sprawdzam działanie algorytmu przy braku krzyżowania i przy zmianą prawdopodobieństwa mutacji"
   ],
   "metadata": {
    "collapsed": false
   }
  },
  {
   "cell_type": "code",
   "execution_count": 10,
   "outputs": [
    {
     "name": "stdout",
     "output_type": "stream",
     "text": [
      "Simulation 1: best result - 1919\n",
      "Simulation 2: best result - 1919\n",
      "Simulation 3: best result - 1917\n",
      "Simulation 4: best result - 1916\n",
      "Simulation 5: best result - 1915\n",
      "Simulation 6: best result - 1915\n",
      "Simulation 7: best result - 1920\n",
      "Simulation 8: best result - 1918\n",
      "Simulation 9: best result - 1920\n",
      "Simulation 10: best result - 1916\n",
      "Simulation 11: best result - 1919\n",
      "Simulation 12: best result - 1917\n",
      "Simulation 13: best result - 1916\n",
      "Simulation 14: best result - 1918\n",
      "Simulation 15: best result - 1917\n",
      "Simulation 16: best result - 1918\n",
      "Simulation 17: best result - 1918\n",
      "Simulation 18: best result - 1923\n",
      "Simulation 19: best result - 1915\n",
      "Simulation 20: best result - 1913\n",
      "Simulation 21: best result - 1916\n",
      "Simulation 22: best result - 1920\n",
      "Simulation 23: best result - 1915\n",
      "Simulation 24: best result - 1917\n",
      "Simulation 25: best result - 1921\n",
      "\n",
      "Best result: 1923\n",
      "Mean: 1917.52\n",
      "Best individual: [0 1 0 0 0 0 1 1 1 0 1 1 1 0 0 0 0 0 1 1 1 0 1 0 1 1 1 0 0 0 1 1 1 1 0 1 0\n",
      " 0 0 0 1 1 1 0 1 1 0 1 0 1 0 1 1 0 1 1 0 0 1 0 1 1 1 0 0 0 0 1 0 1 1 1 0 0\n",
      " 0 1 1 1 0 0 0 1 0 0 1 1 1 1 1 1 1 0 0 0 1 0 0 1 1 1 1 1 0 1 0 1 0 1 1 1 0\n",
      " 1 0 1 0 1 1 1 0 0 0 0 0 1 0 0 0 0 1 1 1 0 0 0 0 0 0 1 0 0 1 0 0 0 0 1 0 1\n",
      " 1 1 1 0 0 1 0 1 0 1 0 0 1 1 0 1 0 1 1 0 0 0 0 1 0 0 1 0 1 0 1 0 0 0 0 0 0\n",
      " 0 0 1 0 1 0 1 0 1 1 1 1 0 1 0]\n"
     ]
    }
   ],
   "source": [
    "simulation.simulate(simulation_count=25, p_c=0, p_m=0.05, population_size=200, iterations=100)"
   ],
   "metadata": {
    "collapsed": false
   }
  },
  {
   "cell_type": "code",
   "execution_count": 11,
   "outputs": [
    {
     "name": "stdout",
     "output_type": "stream",
     "text": [
      "Simulation 1: best result - 1917\n",
      "Simulation 2: best result - 1919\n",
      "Simulation 3: best result - 1918\n",
      "Simulation 4: best result - 1920\n",
      "Simulation 5: best result - 1917\n",
      "Simulation 6: best result - 1916\n",
      "Simulation 7: best result - 1918\n",
      "Simulation 8: best result - 1917\n",
      "Simulation 9: best result - 1921\n",
      "Simulation 10: best result - 1920\n",
      "Simulation 11: best result - 1919\n",
      "Simulation 12: best result - 1919\n",
      "Simulation 13: best result - 1917\n",
      "Simulation 14: best result - 1918\n",
      "Simulation 15: best result - 1921\n",
      "Simulation 16: best result - 1917\n",
      "Simulation 17: best result - 1919\n",
      "Simulation 18: best result - 1918\n",
      "Simulation 19: best result - 1917\n",
      "Simulation 20: best result - 1917\n",
      "Simulation 21: best result - 1918\n",
      "Simulation 22: best result - 1916\n",
      "Simulation 23: best result - 1916\n",
      "Simulation 24: best result - 1922\n",
      "Simulation 25: best result - 1917\n",
      "\n",
      "Best result: 1922\n",
      "Mean: 1918.16\n",
      "Best individual: [1 1 0 0 0 0 0 0 0 1 1 1 0 1 1 1 0 1 1 0 1 0 1 0 1 1 1 1 1 1 1 1 1 0 0 1 1\n",
      " 0 0 1 0 0 1 0 1 0 1 1 0 0 1 0 0 0 1 1 0 0 1 0 0 0 1 1 0 1 0 0 0 1 1 1 1 0\n",
      " 1 0 1 1 1 0 1 1 0 1 1 1 0 0 0 0 1 1 1 1 1 0 1 1 0 0 1 1 1 0 1 0 0 1 1 1 0\n",
      " 1 1 1 1 1 1 0 0 0 1 1 0 1 0 0 1 1 0 0 1 1 0 1 1 1 0 1 0 1 1 0 1 1 0 0 0 0\n",
      " 0 0 1 1 1 0 0 1 0 0 0 0 0 1 0 0 1 1 1 0 1 1 0 1 0 1 0 0 0 0 0 1 0 1 1 1 1\n",
      " 0 0 1 0 0 1 0 1 1 1 0 1 0 0 0]\n"
     ]
    }
   ],
   "source": [
    "simulation.simulate(simulation_count=25, p_c=0, p_m=0.2, population_size=200, iterations=100)"
   ],
   "metadata": {
    "collapsed": false
   }
  },
  {
   "cell_type": "code",
   "execution_count": 12,
   "outputs": [
    {
     "name": "stdout",
     "output_type": "stream",
     "text": [
      "Simulation 1: best result - 1913\n",
      "Simulation 2: best result - 1918\n",
      "Simulation 3: best result - 1914\n",
      "Simulation 4: best result - 1921\n",
      "Simulation 5: best result - 1919\n",
      "Simulation 6: best result - 1917\n",
      "Simulation 7: best result - 1916\n",
      "Simulation 8: best result - 1927\n",
      "Simulation 9: best result - 1918\n",
      "Simulation 10: best result - 1914\n",
      "Simulation 11: best result - 1915\n",
      "Simulation 12: best result - 1913\n",
      "Simulation 13: best result - 1915\n",
      "Simulation 14: best result - 1916\n",
      "Simulation 15: best result - 1913\n",
      "Simulation 16: best result - 1917\n",
      "Simulation 17: best result - 1914\n",
      "Simulation 18: best result - 1921\n",
      "Simulation 19: best result - 1917\n",
      "Simulation 20: best result - 1914\n",
      "Simulation 21: best result - 1916\n",
      "Simulation 22: best result - 1917\n",
      "Simulation 23: best result - 1916\n",
      "Simulation 24: best result - 1920\n",
      "Simulation 25: best result - 1913\n",
      "\n",
      "Best result: 1927\n",
      "Mean: 1916.56\n",
      "Best individual: [1 1 1 0 0 1 1 0 1 0 0 0 0 0 0 0 0 0 0 1 0 0 0 1 1 0 0 0 0 0 1 1 0 1 1 1 0\n",
      " 0 0 0 1 0 0 1 0 0 1 1 1 0 0 0 1 0 0 0 0 0 0 1 0 0 0 0 0 1 1 1 0 0 0 1 0 1\n",
      " 0 1 1 1 0 1 1 0 1 1 1 1 0 1 1 1 0 1 1 0 0 0 0 1 0 0 0 1 0 1 0 0 0 0 1 1 0\n",
      " 1 1 1 1 0 0 1 1 1 0 1 0 0 1 0 0 1 1 1 1 0 0 0 0 0 1 1 0 1 1 0 1 0 0 1 0 0\n",
      " 1 1 1 1 1 1 0 0 0 0 0 1 1 1 0 0 0 1 0 1 1 1 0 1 1 1 0 0 1 1 1 0 0 1 1 1 0\n",
      " 1 0 1 0 1 0 0 1 1 1 0 0 0 1 1]\n"
     ]
    }
   ],
   "source": [
    "simulation.simulate(simulation_count=25, p_c=0, p_m=1, population_size=200, iterations=100)"
   ],
   "metadata": {
    "collapsed": false
   }
  },
  {
   "cell_type": "markdown",
   "source": [
    "Jak widać algorytm przy wyłączonym krzyżowaniem działa w nie najlepszy sposób, ale wciąż daje dodatni zysk."
   ],
   "metadata": {
    "collapsed": false
   }
  },
  {
   "cell_type": "markdown",
   "source": [
    "Sprawdzam działanie algorytmu przy braku mutacji i przy zmianą prawdopodobieństwa krzyżowania."
   ],
   "metadata": {
    "collapsed": false
   }
  },
  {
   "cell_type": "code",
   "execution_count": 13,
   "outputs": [
    {
     "name": "stdout",
     "output_type": "stream",
     "text": [
      "Simulation 1: best result - 1920\n",
      "Simulation 2: best result - 1917\n",
      "Simulation 3: best result - 1918\n",
      "Simulation 4: best result - 1915\n",
      "Simulation 5: best result - 1919\n",
      "Simulation 6: best result - 1919\n",
      "Simulation 7: best result - 1919\n",
      "Simulation 8: best result - 1918\n",
      "Simulation 9: best result - 1919\n",
      "Simulation 10: best result - 1918\n",
      "Simulation 11: best result - 1919\n",
      "Simulation 12: best result - 1916\n",
      "Simulation 13: best result - 1918\n",
      "Simulation 14: best result - 1915\n",
      "Simulation 15: best result - 1921\n",
      "Simulation 16: best result - 1914\n",
      "Simulation 17: best result - 1918\n",
      "Simulation 18: best result - 1920\n",
      "Simulation 19: best result - 1916\n",
      "Simulation 20: best result - 1919\n",
      "Simulation 21: best result - 1917\n",
      "Simulation 22: best result - 1918\n",
      "Simulation 23: best result - 1916\n",
      "Simulation 24: best result - 1916\n",
      "Simulation 25: best result - 1917\n",
      "\n",
      "Best result: 1921\n",
      "Mean: 1917.68\n",
      "Best individual: [1 1 1 0 1 1 1 1 1 0 0 0 0 0 0 1 0 1 1 0 1 1 1 1 0 0 1 1 0 1 0 1 1 1 1 1 1\n",
      " 1 1 1 1 1 1 0 1 0 1 1 1 0 1 1 0 1 0 0 0 1 0 1 1 0 0 1 1 1 1 0 1 1 1 0 1 0\n",
      " 0 0 1 1 1 0 1 0 0 1 0 1 1 1 1 0 1 0 1 1 1 1 0 1 1 0 0 1 0 0 1 1 1 0 0 1 0\n",
      " 0 0 0 1 0 0 1 0 1 0 1 1 1 0 0 0 0 0 0 1 0 1 0 0 0 1 0 0 1 0 1 0 0 0 0 1 0\n",
      " 0 1 1 0 1 1 1 0 0 0 1 1 1 1 0 1 1 0 0 0 1 0 0 0 1 1 0 1 0 1 0 0 0 1 0 1 1\n",
      " 1 0 0 1 1 1 1 0 1 1 0 0 1 1 0]\n"
     ]
    }
   ],
   "source": [
    "simulation.simulate(simulation_count=25, p_c=0.1, p_m=0, population_size=200, iterations=100)"
   ],
   "metadata": {
    "collapsed": false
   }
  },
  {
   "cell_type": "code",
   "execution_count": 14,
   "outputs": [
    {
     "name": "stdout",
     "output_type": "stream",
     "text": [
      "Simulation 1: best result - 1918\n",
      "Simulation 2: best result - 1919\n",
      "Simulation 3: best result - 1919\n",
      "Simulation 4: best result - 1917\n",
      "Simulation 5: best result - 1920\n",
      "Simulation 6: best result - 1920\n",
      "Simulation 7: best result - 1918\n",
      "Simulation 8: best result - 1919\n",
      "Simulation 9: best result - 1924\n",
      "Simulation 10: best result - 1916\n",
      "Simulation 11: best result - 1919\n",
      "Simulation 12: best result - 1919\n",
      "Simulation 13: best result - 1925\n",
      "Simulation 14: best result - 1920\n",
      "Simulation 15: best result - 1920\n",
      "Simulation 16: best result - 1923\n",
      "Simulation 17: best result - 1924\n",
      "Simulation 18: best result - 1915\n",
      "Simulation 19: best result - 1920\n",
      "Simulation 20: best result - 1921\n",
      "Simulation 21: best result - 1920\n",
      "Simulation 22: best result - 1919\n",
      "Simulation 23: best result - 1920\n",
      "Simulation 24: best result - 1921\n",
      "Simulation 25: best result - 1922\n",
      "\n",
      "Best result: 1925\n",
      "Mean: 1919.92\n",
      "Best individual: [1 0 1 0 1 1 0 1 1 1 1 0 0 1 0 1 1 0 0 1 0 0 1 1 0 1 1 1 1 1 0 1 0 1 0 0 0\n",
      " 1 0 0 0 1 1 0 0 1 0 0 1 0 0 0 0 0 0 0 1 1 0 0 0 1 1 1 0 0 1 0 0 0 1 0 1 0\n",
      " 1 0 1 1 0 1 1 0 1 1 1 1 1 1 1 1 1 0 1 0 1 0 1 1 1 0 0 0 1 1 0 1 1 1 1 0 0\n",
      " 0 0 1 0 0 0 0 0 1 0 0 0 0 1 1 1 0 0 1 0 1 0 1 0 1 1 0 1 0 0 1 1 1 1 0 0 0\n",
      " 0 0 1 1 1 0 1 1 1 1 1 0 0 0 0 0 1 0 1 1 0 1 1 1 1 1 0 0 0 1 0 1 1 1 1 0 0\n",
      " 1 0 1 0 1 0 0 0 0 0 1 1 1 0 1]\n"
     ]
    }
   ],
   "source": [
    "simulation.simulate(simulation_count=25, p_c=0.5, p_m=0, population_size=200, iterations=100)"
   ],
   "metadata": {
    "collapsed": false
   }
  },
  {
   "cell_type": "code",
   "execution_count": 24,
   "outputs": [
    {
     "name": "stdout",
     "output_type": "stream",
     "text": [
      "Simulation 1: best result - 1921\n",
      "Simulation 2: best result - 1921\n",
      "Simulation 3: best result - 1925\n",
      "Simulation 4: best result - 1921\n",
      "Simulation 5: best result - 1923\n",
      "Simulation 6: best result - 1924\n",
      "Simulation 7: best result - 1919\n",
      "Simulation 8: best result - 1923\n",
      "Simulation 9: best result - 1920\n",
      "Simulation 10: best result - 1921\n",
      "Simulation 11: best result - 1920\n",
      "Simulation 12: best result - 1919\n",
      "Simulation 13: best result - 1922\n",
      "Simulation 14: best result - 1921\n",
      "Simulation 15: best result - 1923\n",
      "Simulation 16: best result - 1920\n",
      "Simulation 17: best result - 1921\n",
      "Simulation 18: best result - 1922\n",
      "Simulation 19: best result - 1924\n",
      "Simulation 20: best result - 1923\n",
      "Simulation 21: best result - 1921\n",
      "Simulation 22: best result - 1916\n",
      "Simulation 23: best result - 1922\n",
      "Simulation 24: best result - 1922\n",
      "Simulation 25: best result - 1921\n",
      "\n",
      "Best result: 1925\n",
      "Mean: 1921.4\n",
      "Best individual: [1 0 1 1 0 0 0 0 0 0 1 1 1 1 0 0 0 0 0 0 1 0 0 0 0 0 0 1 1 1 1 0 0 1 1 0 1\n",
      " 1 1 0 0 1 0 0 0 0 1 0 1 0 0 1 1 0 1 0 1 0 1 0 0 0 1 1 0 0 0 1 1 0 1 0 0 0\n",
      " 1 0 0 1 1 1 0 0 1 1 1 1 1 1 1 1 0 0 0 1 0 0 1 0 1 1 1 1 0 1 1 1 1 1 0 0 0\n",
      " 1 1 0 0 1 0 0 0 0 0 0 0 1 0 1 1 1 1 1 0 1 0 1 1 1 0 1 1 1 0 0 1 1 0 1 1 1\n",
      " 1 1 1 1 0 1 1 1 0 0 1 0 0 0 1 0 0 0 1 0 0 1 0 1 1 1 1 1 0 0 1 1 0 1 1 0 1\n",
      " 1 1 1 0 0 1 1 0 1 1 0 1 0 0 0]\n"
     ]
    }
   ],
   "source": [
    "simulation.simulate(simulation_count=25, p_c=1, p_m=0, population_size=200, iterations=100)"
   ],
   "metadata": {
    "collapsed": false
   }
  },
  {
   "cell_type": "markdown",
   "source": [
    "W tej sytuacji algorytm zachowuje się tak samo, jak i przy włączonej mutacji, że przy wzroście prawdopodobieństwa krzyżowania, algorytm daje lepsze wyniki oraz średnia z eksperymentu rośnie."
   ],
   "metadata": {
    "collapsed": false
   }
  },
  {
   "cell_type": "markdown",
   "source": [
    "## Wnioski\n",
    "\n",
    "Po przeprowadzeniu powyższych eksperymentów mogę wywnioskować, że na działanie algorytmu ewolucyjnego głównie wpływają prawdopodobieństwa krzyżowania i mutacji oraz wielkości iteracji i populacji.\n",
    "Każdy z tych parametrów decyduje o jakość wyniku. Żeby algorytm dał jak najlepszy wynik, musimy ustawić prawdopodobieństwo krzyżowania dość duże oraz małe prawdopodobieństwo mutacji. Co do populacji, to im więcej będzie osobników, tym lepiej działa algorytm, natomiast zbyt dużo osobników spowalnia proces optymalizacji. Analogicznie jest z wielkością iteracji.\n",
    "Z powyższych eksperymentów wynika też, że dla prawdopodobieństwa krzyżowania równym 50%, prawdopodobieństwa mutacji - 5%, ilości populacji - 200 oraz ilości iteracji 100 daje jedne z najlepszych wyników w akceptowalny czas. Oczywiście zwiększenie wielkości populacji lub ilości iteracji polepszy wynik symulacji, ale wtedy będziemy mieli do czynienie z dość wolnym eksperymentem.\n"
   ],
   "metadata": {
    "collapsed": false
   }
  },
  {
   "cell_type": "code",
   "execution_count": 27,
   "outputs": [
    {
     "name": "stdout",
     "output_type": "stream",
     "text": [
      "Simulation 1: best result - 1922\n",
      "Simulation 2: best result - 1924\n",
      "Simulation 3: best result - 1923\n",
      "Simulation 4: best result - 1923\n",
      "Simulation 5: best result - 1920\n",
      "Simulation 6: best result - 1924\n",
      "Simulation 7: best result - 1921\n",
      "Simulation 8: best result - 1923\n",
      "Simulation 9: best result - 1922\n",
      "Simulation 10: best result - 1922\n",
      "Simulation 11: best result - 1922\n",
      "Simulation 12: best result - 1925\n",
      "Simulation 13: best result - 1921\n",
      "Simulation 14: best result - 1923\n",
      "Simulation 15: best result - 1925\n",
      "Simulation 16: best result - 1923\n",
      "Simulation 17: best result - 1920\n",
      "Simulation 18: best result - 1922\n",
      "Simulation 19: best result - 1921\n",
      "Simulation 20: best result - 1921\n",
      "Simulation 21: best result - 1923\n",
      "Simulation 22: best result - 1924\n",
      "Simulation 23: best result - 1921\n",
      "Simulation 24: best result - 1923\n",
      "Simulation 25: best result - 1925\n",
      "\n",
      "Best result: 1925\n",
      "Mean: 1922.52\n",
      "Best individual: [1 1 1 0 0 0 1 0 1 0 0 1 0 1 1 1 1 1 0 1 0 1 0 0 0 1 1 0 0 1 1 1 1 0 0 1 0\n",
      " 0 0 0 0 1 0 0 1 0 0 0 0 0 1 1 0 0 1 1 1 1 0 0 1 1 0 0 0 0 1 1 1 0 1 0 1 1\n",
      " 1 0 1 0 0 1 1 1 1 0 1 1 1 0 0 0 1 0 1 0 0 1 1 1 1 1 0 1 0 1 1 1 1 0 1 0 1\n",
      " 1 0 1 1 1 0 1 0 0 1 1 1 1 1 1 0 0 0 1 0 0 1 0 0 0 1 0 0 1 0 1 1 1 1 0 1 1\n",
      " 1 0 0 0 0 0 0 0 1 1 0 0 0 0 1 0 0 1 1 1 1 0 1 0 0 1 1 0 1 1 1 0 1 1 0 1 0\n",
      " 1 0 0 1 0 0 1 1 0 1 1 0 1 1 0]\n"
     ]
    }
   ],
   "source": [
    "simulation.simulate(simulation_count=25, p_c=0.5, p_m=0.05, population_size=200, iterations=100)"
   ],
   "metadata": {
    "collapsed": false
   }
  }
 ],
 "metadata": {
  "kernelspec": {
   "display_name": "Python 3",
   "language": "python",
   "name": "python3"
  },
  "language_info": {
   "codemirror_mode": {
    "name": "ipython",
    "version": 2
   },
   "file_extension": ".py",
   "mimetype": "text/x-python",
   "name": "python",
   "nbconvert_exporter": "python",
   "pygments_lexer": "ipython2",
   "version": "2.7.6"
  }
 },
 "nbformat": 4,
 "nbformat_minor": 0
}
